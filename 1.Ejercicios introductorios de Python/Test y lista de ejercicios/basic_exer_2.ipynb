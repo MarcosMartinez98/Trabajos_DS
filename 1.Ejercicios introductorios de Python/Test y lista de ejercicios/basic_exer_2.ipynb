{
 "cells": [
  {
   "cell_type": "markdown",
   "id": "d69a303d",
   "metadata": {},
   "source": [
    "## Ejercicio 21 (Modificado)\n",
    "Dada la siguiente lista de listas (matriz), utiliza bucles `for` anidados para calcular la suma de todos los números presentes en ella.\n",
    "\n",
    "> ```python\n",
    "> matriz_numeros = [\n",
    ">     [1, 5, 3],\n",
    ">     [4, 8, 6],\n",
    ">     [7, 2, 9]\n",
    "> ]\n",
    "> ```\n",
    "> **TIP:** Necesitarás un bucle externo para las filas y uno interno para los elementos de cada fila. Acumula la suma en una variable."
   ]
  },
  {
   "cell_type": "code",
   "execution_count": 2,
   "id": "4a048ef8",
   "metadata": {},
   "outputs": [],
   "source": [
    "matriz_numeros = [\n",
    "     [1, 5, 3],\n",
    "    [4, 8, 6],    [7, 2, 9]\n",
    "]"
   ]
  },
  {
   "cell_type": "code",
   "execution_count": 4,
   "id": "21d2728e",
   "metadata": {},
   "outputs": [
    {
     "name": "stdout",
     "output_type": "stream",
     "text": [
      "45\n"
     ]
    }
   ],
   "source": [
    "suma = 0\n",
    "for i in matriz_numeros:\n",
    "    suma += sum(i)\n",
    "print(suma)\n",
    "\n"
   ]
  },
  {
   "cell_type": "markdown",
   "id": "9393d7f5",
   "metadata": {},
   "source": [
    "\n",
    "## Ejercicio 22\n",
    "Escribe un programa que pida al usuario que introduzca una edad. Usa un bucle `while` y `try-except` para asegurarte de que el usuario introduce un número entero válido y positivo. El bucle debe continuar hasta que se introduzca una edad válida.\n",
    "\n",
    "> **TIP:** Dentro del `while True`, usa `input()`, `int()` dentro de un `try`, y comprueba si es positivo. Usa `break` para salir si es válido. Captura `ValueError`.\n"
   ]
  },
  {
   "cell_type": "code",
   "execution_count": 2,
   "id": "cf8d2a97",
   "metadata": {},
   "outputs": [
    {
     "name": "stdout",
     "output_type": "stream",
     "text": [
      "Válido, tu edad es 5 años\n"
     ]
    }
   ],
   "source": [
    "while True:\n",
    "    try:\n",
    "        edad = input('Introduce tu edad')\n",
    "        if int(edad) >= 0:\n",
    "            print(f'Válido, tu edad es {edad} años')\n",
    "            break\n",
    "        else:\n",
    "            print('Introduce un número positivo')\n",
    "    except ValueError:\n",
    "        print('Debes introducir un número')"
   ]
  },
  {
   "cell_type": "markdown",
   "id": "00997389",
   "metadata": {},
   "source": [
    "\n",
    "## Ejercicio 23 (Modificado)\n",
    "Usando bucles `for` anidados, imprime un patrón de tablero de ajedrez de 4x4 usando 'X' y 'O'. El patrón debe alternar en cada celda.\n",
    "```\n",
    "X O X O\n",
    "O X O X\n",
    "X O X O\n",
    "O X O X\n",
    "```\n",
    "> **TIP:** Puedes usar la suma del índice de fila y columna. Si es par, imprime 'X', si es impar, 'O' (o viceversa). Usa `print(caracter, end=' ')`.\n"
   ]
  },
  {
   "cell_type": "code",
   "execution_count": null,
   "id": "04ee9b87",
   "metadata": {},
   "outputs": [
    {
     "name": "stdout",
     "output_type": "stream",
     "text": [
      "X O X O\n",
      "O X O X\n",
      "X O X O\n",
      "O X O X\n"
     ]
    }
   ],
   "source": [
    "\"\"\"\n",
    "Este script imprime un patrón de tablero tipo ajedrez usando los caracteres 'X' y 'O'.\n",
    "\n",
    "1. Se definen dos listas:\n",
    "   - `impar = ['X', 'O']` para representar las filas impares.\n",
    "   - `par = ['O', 'X']` para representar las filas pares (orden invertido respecto a la anterior).\n",
    "\n",
    "2. Cada lista se multiplica por 2 y se convierte en una cadena de texto con espacios entre los elementos:\n",
    "   - `fila_impar` se convierte en 'X O X O'\n",
    "   - `fila_par` se convierte en 'O X O X'\n",
    "\n",
    "3. Se utiliza un bucle `while` para imprimir alternativamente dos veces estas filas, generando un patrón de 4 líneas:\n",
    "   X O X O\n",
    "   O X O X\n",
    "   X O X O\n",
    "   O X O X\n",
    "\"\"\"\n",
    "\n",
    "impar = ['X','O']\n",
    "fila_impar = ' '.join(2 * impar)\n",
    "par = ['O','X']\n",
    "fila_par = ' '.join(2 * par)\n",
    "i = 0\n",
    "while i < 2:\n",
    "    print(fila_impar)\n",
    "    print(fila_par)\n",
    "    i += 1\n",
    "\n",
    "\n"
   ]
  },
  {
   "cell_type": "code",
   "execution_count": null,
   "id": "50548084",
   "metadata": {},
   "outputs": [
    {
     "name": "stdout",
     "output_type": "stream",
     "text": [
      "X O X O \n",
      "O X O X \n",
      "X O X O \n",
      "O X O X \n"
     ]
    }
   ],
   "source": [
    "\"\"\"\n",
    "Este script imprime un tablero de 4x4 con un patrón tipo ajedrez usando 'X' y 'O'.\n",
    "\n",
    "1. Se inicializa un contador `count` para llevar la cuenta de los caracteres impresos.\n",
    "\n",
    "2. Se utilizan dos bucles `for` anidados:\n",
    "   - El externo recorre las filas (de 0 a 3).\n",
    "   - El interno recorre las columnas (de 0 a 3).\n",
    "\n",
    "3. Para cada celda del tablero, se evalúa la suma de los índices `fila + columna`:\n",
    "   - Si la suma es par, se imprime 'X'.\n",
    "   - Si es impar, se imprime 'O'.\n",
    "   Esto genera el patrón alternante de un tablero de ajedrez.\n",
    "\n",
    "4. Después de imprimir cada carácter, se incrementa `count`.\n",
    "\n",
    "5. Cuando `count` es múltiplo de 4 (es decir, al final de cada fila), se imprime un salto de línea.\n",
    "   - Esto se consigue con `print()` sin argumentos, que por defecto añade un `\\n`.\n",
    "\n",
    "Resultado:\n",
    "X O X O  \n",
    "O X O X  \n",
    "X O X O  \n",
    "O X O X\n",
    "\"\"\"\n",
    "\n",
    "count = 0\n",
    "for fila in range(4):\n",
    "    for columna in range(4):\n",
    "        if (fila + columna) % 2 == 0:\n",
    "            print('X', end=' ')\n",
    "            count += 1\n",
    "        else:\n",
    "            print('O', end=' ')\n",
    "            count += 1\n",
    "        if count % 4 == 0:\n",
    "            print()  # este print hace un salto de linea porque print tiene por defecto print(lo que imprimo, end = '\\n')\n",
    "\n",
    "\n"
   ]
  },
  {
   "cell_type": "markdown",
   "id": "2e29b8af",
   "metadata": {},
   "source": [
    "## Generalización del ejercicio 23\n",
    "Vamos a crear una funcion que devuelva un tablero de n filas y m columnas con el patrón anterior."
   ]
  },
  {
   "cell_type": "code",
   "execution_count": 11,
   "id": "06755ce6",
   "metadata": {},
   "outputs": [
    {
     "name": "stdout",
     "output_type": "stream",
     "text": [
      "X O X O X O X \n",
      "O X O X O X O \n",
      "X O X O X O X \n",
      "O X O X O X O \n",
      "X O X O X O X \n"
     ]
    }
   ],
   "source": [
    "def tablero(filas, columnas):\n",
    "    count = 0\n",
    "    for fila in range(filas):\n",
    "        for columna in range(columnas):\n",
    "            if (fila + columna) % 2 == 0:\n",
    "                print('X', end=' ')\n",
    "                count += 1\n",
    "            else:\n",
    "                print('O', end=' ')\n",
    "                count += 1\n",
    "            if count % columnas == 0:\n",
    "                print()\n",
    "tablero(5,7)\n"
   ]
  },
  {
   "cell_type": "markdown",
   "id": "316a75c0",
   "metadata": {},
   "source": [
    "\n",
    "## Ejercicio 24 (Modificado)\n",
    "Tienes una lista de diccionarios representando productos. Itera sobre ella e imprime el nombre de los productos cuyo precio (`'precio'`) sea menor que 30 Y cuyo stock (`'stock'`) sea mayor que 0.\n",
    "\n",
    "> ```python\n",
    "> productos = [\n",
    ">     {\"nombre\": \"Manzana\", \"precio\": 25, \"stock\": 10},\n",
    ">     {\"nombre\": \"Pera\", \"precio\": 35, \"stock\": 5},\n",
    ">     {\"nombre\": \"Naranja\", \"precio\": 15, \"stock\": 0},\n",
    ">     {\"nombre\": \"Plátano\", \"precio\": 28, \"stock\": 20}\n",
    "> ]\n",
    "> ```\n",
    "> **TIP:** Necesitarás un `if` con el operador `and` dentro del bucle `for`.\n"
   ]
  },
  {
   "cell_type": "code",
   "execution_count": 86,
   "id": "8d8a7f91",
   "metadata": {},
   "outputs": [
    {
     "name": "stdout",
     "output_type": "stream",
     "text": [
      "['Manzana', 'Plátano']\n"
     ]
    }
   ],
   "source": [
    "productos = [\n",
    "    {\"nombre\": \"Manzana\", \"precio\": 25, \"stock\": 10},\n",
    "    {\"nombre\": \"Pera\", \"precio\": 35, \"stock\": 5},\n",
    "    {\"nombre\": \"Naranja\", \"precio\": 15, \"stock\": 0},\n",
    "    {\"nombre\": \"Plátano\", \"precio\": 28, \"stock\": 20}\n",
    " ]\n",
    "\n",
    "productos_seleccionados = []\n",
    "for diccionario in productos:\n",
    "    if (diccionario['precio'] < 30) and (diccionario['stock'] > 0):\n",
    "        productos_seleccionados.append(diccionario['nombre'])\n",
    "print(productos_seleccionados)\n",
    "        \n",
    "        "
   ]
  },
  {
   "cell_type": "markdown",
   "id": "dbac03b1",
   "metadata": {},
   "source": [
    "\n",
    "## Ejercicio 25 (Modificado)\n",
    "Dado el diccionario `categorias`, donde las claves son nombres de categorías y los valores son listas de ítems, itera sobre él. Para cada categoría, imprime su nombre seguido de los ítems de esa categoría cuya longitud (número de caracteres) sea mayor que 4.\n",
    "\n",
    "> ```python\n",
    "> categorias = {\n",
    ">     \"Frutas\": [\"manzana\", \"pera\", \"uva\"],\n",
    ">     \"Verduras\": [\"brócoli\", \"espinaca\", \"zanahoria\"],\n",
    ">     \"Lácteos\": [\"leche\", \"queso\", \"yogur\"]\n",
    "> }\n",
    "> ```\n",
    "> **TIP:** Usa un bucle `for` para `.items()` del diccionario, y un bucle anidado para la lista de ítems, con un `if` y `len()`.\n"
   ]
  },
  {
   "cell_type": "code",
   "execution_count": 94,
   "id": "623dc030",
   "metadata": {},
   "outputs": [
    {
     "name": "stdout",
     "output_type": "stream",
     "text": [
      "Frutas: ['manzana']\n",
      "Verduras: ['brócoli', 'espinaca', 'zanahoria']\n",
      "Lácteos: ['leche', 'queso', 'yogur']\n"
     ]
    }
   ],
   "source": [
    "categorias = {\n",
    "     \"Frutas\": [\"manzana\", \"pera\", \"uva\"],\n",
    "    \"Verduras\": [\"brócoli\", \"espinaca\", \"zanahoria\"],\n",
    "    \"Lácteos\": [\"leche\", \"queso\", \"yogur\"]\n",
    "}\n",
    "for clave, valor in categorias.items():\n",
    "    comidas = []\n",
    "    for comida in valor:\n",
    "        if len(comida) > 4:\n",
    "            comidas.append(comida)\n",
    "    print(f'{clave}: {comidas}')\n",
    "            \n",
    "    "
   ]
  },
  {
   "cell_type": "markdown",
   "id": "e92aeda8",
   "metadata": {},
   "source": [
    "\n",
    "## Ejercicio 26 (Modificado)\n",
    "Simula sacar cartas de una baraja (lista). Usa un bucle `while` que se ejecute mientras queden cartas. En cada iteración, saca la última carta usando `.pop()`, imprímela y lleva una cuenta de cuántas cartas has sacado. Al final, imprime el número total de cartas sacadas.\n",
    "\n",
    "> ```python\n",
    "> baraja = [\"As\", \"Rey\", \"Reina\", \"Jota\", \"10\", \"9\"]\n",
    "> ```\n",
    "> **TIP:** El bucle `while` puede comprobar si la lista `baraja` tiene elementos. Incrementa un contador en cada iteración.\n"
   ]
  },
  {
   "cell_type": "code",
   "execution_count": 101,
   "id": "848ca633",
   "metadata": {},
   "outputs": [
    {
     "name": "stdout",
     "output_type": "stream",
     "text": [
      "['As', 'Rey', 'Reina', 'Jota', '10'] 1\n",
      "['As', 'Rey', 'Reina', 'Jota'] 2\n",
      "['As', 'Rey', 'Reina'] 3\n",
      "['As', 'Rey'] 4\n",
      "['As'] 5\n",
      "[] 6\n",
      "La baraja contenía 6 cartas\n"
     ]
    }
   ],
   "source": [
    "baraja = [\"As\", \"Rey\", \"Reina\", \"Jota\", \"10\", \"9\"]\n",
    "cartas_sacadas = 0\n",
    "while len(baraja) > 0:\n",
    "    baraja.pop(-1)\n",
    "    cartas_sacadas += 1\n",
    "    print(baraja, cartas_sacadas)\n",
    "print(f'La baraja contenía {cartas_sacadas} cartas')\n"
   ]
  },
  {
   "cell_type": "markdown",
   "id": "ad30e483",
   "metadata": {},
   "source": [
    "\n",
    "## Ejercicio 27\n",
    "Tienes una lista anidada que representa una matriz simple. Accede e imprime el número 6.\n",
    "> ```python\n",
    "> matriz = [\n",
    ">     [1, 2, 3],\n",
    ">     [4, 5, 6],\n",
    ">     [7, 8, 9]\n",
    "> ]\n",
    "> ```\n",
    "> **TIP:** Necesitarás doble indexación `[fila][columna]`.\n"
   ]
  },
  {
   "cell_type": "code",
   "execution_count": 88,
   "id": "aa45695f",
   "metadata": {},
   "outputs": [
    {
     "data": {
      "text/plain": [
       "6"
      ]
     },
     "execution_count": 88,
     "metadata": {},
     "output_type": "execute_result"
    }
   ],
   "source": [
    "matriz = [\n",
    "    [1, 2, 3],\n",
    "     [4, 5, 6],\n",
    "     [7, 8, 9]\n",
    " ]\n",
    "\n",
    "matriz[1][2]"
   ]
  },
  {
   "cell_type": "markdown",
   "id": "73ce63e8",
   "metadata": {},
   "source": [
    "\n",
    "## Ejercicio 28\n",
    "Dada la siguiente tupla, desempaquétala en tres variables separadas: `nombre`, `materia` y `nota`. Imprime las tres variables.\n",
    "> ```python\n",
    "> registro = (\"Juan\", \"Matemáticas\", 8)\n",
    "> ```\n"
   ]
  },
  {
   "cell_type": "code",
   "execution_count": 106,
   "id": "e28bb375",
   "metadata": {},
   "outputs": [
    {
     "name": "stdout",
     "output_type": "stream",
     "text": [
      "['Juan'] ['Matemáticas'] [8] []\n"
     ]
    }
   ],
   "source": [
    "registro = (\"Juan\", \"Matemáticas\", 8)\n",
    "registro = list(registro)\n",
    "nombre = [registro.pop(0)]\n",
    "materia = [registro.pop(0)]\n",
    "nota = [registro.pop(0)]\n",
    "print(nombre, materia, nota, registro)\n"
   ]
  },
  {
   "cell_type": "markdown",
   "id": "338a8b36",
   "metadata": {},
   "source": [
    "\n",
    "## Ejercicio 29\n",
    "Dado el diccionario `configuracion`, intenta obtener el valor asociado a la clave \"idioma\". Si la clave no existe, el programa debe imprimir \"Español\" como valor por defecto, sin dar error.\n",
    "> ```python\n",
    "> configuracion = {\"usuario\": \"admin\", \"tema\": \"oscuro\"}\n",
    "> ```\n",
    "> **TIP:** El método `.get()` de los diccionarios permite especificar un valor por defecto.\n"
   ]
  },
  {
   "cell_type": "code",
   "execution_count": 107,
   "id": "af17caf8",
   "metadata": {},
   "outputs": [
    {
     "data": {
      "text/plain": [
       "'Español'"
      ]
     },
     "execution_count": 107,
     "metadata": {},
     "output_type": "execute_result"
    }
   ],
   "source": [
    "configuracion = {\"usuario\": \"admin\", \"tema\": \"oscuro\"}\n",
    "configuracion.get('idioma', 'Español')"
   ]
  },
  {
   "cell_type": "markdown",
   "id": "77babdd4",
   "metadata": {},
   "source": [
    "\n",
    "## Ejercicio 30\n",
    "Itera sobre el siguiente diccionario e imprime únicamente sus claves, una por línea.\n",
    "> ```python\n",
    "> capitales = {\"España\": \"Madrid\", \"Francia\": \"París\", \"Italia\": \"Roma\"}\n",
    "> ```\n",
    "> **TIP:** Puedes iterar directamente sobre el diccionario o usar el método `.keys()`.\n"
   ]
  },
  {
   "cell_type": "code",
   "execution_count": 108,
   "id": "7c84d8cc",
   "metadata": {},
   "outputs": [
    {
     "name": "stdout",
     "output_type": "stream",
     "text": [
      "España\n",
      "Francia\n",
      "Italia\n"
     ]
    }
   ],
   "source": [
    "capitales = {\"España\": \"Madrid\", \"Francia\": \"París\", \"Italia\": \"Roma\"}\n",
    "for clave in capitales.keys():\n",
    "    print(clave)"
   ]
  },
  {
   "cell_type": "markdown",
   "id": "deacfdff",
   "metadata": {},
   "source": [
    "\n",
    "## Ejercicio 31\n",
    "Crea un set vacío llamado `ingredientes`. Pide al usuario que introduzca 3 ingredientes para una receta y añádelos al set usando un bucle. Imprime el set final.\n",
    "\n",
    "> **TIP:** Usa el método `.add()` dentro del bucle para añadir cada ingrediente al set.\n"
   ]
  },
  {
   "cell_type": "code",
   "execution_count": 118,
   "id": "0ec782ea",
   "metadata": {},
   "outputs": [
    {
     "name": "stdout",
     "output_type": "stream",
     "text": [
      "{'tomate', 'cebolla', 'ajo'}\n"
     ]
    }
   ],
   "source": [
    "ingredientes = set({})\n",
    "type(ingredientes)\n",
    "for i in range(1,4):\n",
    "    ingrediente = input(f'Añade el ingrediente {i}')\n",
    "    ingredientes.add(ingrediente)\n",
    "print(ingredientes)"
   ]
  },
  {
   "cell_type": "markdown",
   "id": "497760dd",
   "metadata": {},
   "source": [
    "\n",
    "## Ejercicio 32 (Modificado)\n",
    "Dada una lista de sets, encuentra la intersección de *todos* los sets en la lista. Imprime el set resultante con los elementos comunes a todos.\n",
    "\n",
    "> ```python\n",
    "> lista_sets = [\n",
    ">     {1, 2, 3, 4, 5},\n",
    ">     {3, 4, 5, 6, 7},\n",
    ">     {5, 6, 7, 8, 9, 4}\n",
    "> ]\n",
    "> ```\n",
    "> **TIP:** Puedes empezar con una copia del primer set y luego iterar sobre el resto de la lista, actualizando la intersección en cada paso usando el operador `&=`.\n"
   ]
  },
  {
   "cell_type": "code",
   "execution_count": 126,
   "id": "7255905e",
   "metadata": {},
   "outputs": [
    {
     "name": "stdout",
     "output_type": "stream",
     "text": [
      "{4, 5}\n"
     ]
    }
   ],
   "source": [
    "lista_sets = [\n",
    "    {1, 2, 3, 4, 5},\n",
    "     {3, 4, 5, 6, 7},\n",
    "    {5, 6, 7, 8, 9, 4}\n",
    " ]\n",
    "\n",
    "interseccion = lista_sets[0]\n",
    "for set in lista_sets:\n",
    "    interseccion &= set\n",
    "print(interseccion)\n"
   ]
  },
  {
   "cell_type": "markdown",
   "id": "df165aa7",
   "metadata": {},
   "source": [
    "\n",
    "## Ejercicio 33 (Modificado)\n",
    "Tienes un diccionario donde las claves son nombres de estudiantes y los valores son listas de tuplas `(asignatura, nota)`. Calcula e imprime el promedio de notas *aprobadas* (nota >= 5) para cada estudiante. Si un estudiante no tiene notas aprobadas, indícalo.\n",
    "\n",
    "> ```python\n",
    "> notas_estudiantes = {\n",
    ">     \"Ana\": [(\"Mate\", 8), (\"Física\", 4), (\"Historia\", 7)],\n",
    ">     \"Luis\": [(\"Mate\", 3), (\"Física\", 2), (\"Historia\", 4)],\n",
    ">     \"Eva\": [(\"Mate\", 9), (\"Física\", 10), (\"Historia\", 6)]\n",
    "> }\n",
    "> ```\n",
    "> **TIP:** Itera sobre el diccionario. Para cada estudiante, itera sobre su lista de notas, suma las aprobadas y cuenta cuántas son. Calcula el promedio (cuidado con dividir por cero si no hay aprobadas).\n"
   ]
  },
  {
   "cell_type": "code",
   "execution_count": 20,
   "id": "d3e9b4ea",
   "metadata": {},
   "outputs": [
    {
     "name": "stdout",
     "output_type": "stream",
     "text": [
      "Ana tiene el 66.67 % aprobadas\n",
      "Luis tiene el 0.0 % aprobadas\n",
      "Eva tiene el 100.0 % aprobadas\n"
     ]
    }
   ],
   "source": [
    "notas_estudiantes = {\n",
    "     \"Ana\": [(\"Mate\", 8), (\"Física\", 4), (\"Historia\", 7)],\n",
    "     \"Luis\": [(\"Mate\", 3), (\"Física\", 2), (\"Historia\", 4)],\n",
    "     \"Eva\": [(\"Mate\", 9), (\"Física\", 10), (\"Historia\", 6)]\n",
    " }\n",
    "\n",
    "def promedio_aprobadas(estudiante):\n",
    "        aprobadas = 0\n",
    "        for i in range(0,3):\n",
    "            if notas_estudiantes[estudiante.capitalize()][i][1] >= 5:\n",
    "                aprobadas += 1\n",
    "        return f'{estudiante.capitalize()} tiene el {round((aprobadas/len(notas_estudiantes[estudiante.capitalize()]))*100, 2)} % aprobadas'\n",
    "            \n",
    "\n",
    "print(promedio_aprobadas('ana'))\n",
    "print(promedio_aprobadas('luis'))\n",
    "print(promedio_aprobadas('eva'))\n",
    "\n",
    "\n",
    "    \n",
    "        \n",
    "    \n",
    "        "
   ]
  },
  {
   "cell_type": "markdown",
   "id": "801f2e38",
   "metadata": {},
   "source": [
    "\n",
    "## Ejercicio 34\n",
    "Escribe un programa que use bucles anidados (`for` dentro de `for`) para imprimir un \"tablero\" de 3x3 asteriscos, como este:\n",
    "```\n",
    "* * *\n",
    "* * *\n",
    "* * *\n",
    "```\n",
    "> **TIP:** El bucle exterior controla las filas, el interior las columnas. Usa `print('*', end=' ')` para imprimir en la misma línea y `print()` para saltar de línea.\n"
   ]
  },
  {
   "cell_type": "code",
   "execution_count": 142,
   "id": "9d23025b",
   "metadata": {},
   "outputs": [
    {
     "name": "stdout",
     "output_type": "stream",
     "text": [
      "* * * \n",
      "* * * \n",
      "* * * \n"
     ]
    }
   ],
   "source": [
    "counter = 0\n",
    "for fila in range (0,3):\n",
    "    for fila in range (0,3):\n",
    "        print('*', end = ' ')\n",
    "        counter += 1\n",
    "        if counter % 3 == 0:\n",
    "            print()\n",
    "            "
   ]
  },
  {
   "cell_type": "markdown",
   "id": "617d9744",
   "metadata": {},
   "source": [
    "\n",
    "## Ejercicio 35\n",
    "Tienes una lista de tareas pendientes. Usa un bucle `while` para procesar (simplemente imprimir y eliminar) las tareas una por una, hasta que la lista esté vacía. Imprime la lista al final (debería estar vacía).\n",
    "> ```python\n",
    "> tareas_pendientes = [\"Lavar\", \"Planchar\", \"Comprar\"]\n",
    "> ```\n",
    "> **TIP:** El bucle puede continuar mientras la lista no esté vacía (`while tareas_pendientes:`). Usa `.pop()` para obtener y eliminar el último elemento.\n"
   ]
  },
  {
   "cell_type": "code",
   "execution_count": 22,
   "id": "b2554894",
   "metadata": {},
   "outputs": [
    {
     "name": "stdout",
     "output_type": "stream",
     "text": [
      "[] 3\n"
     ]
    }
   ],
   "source": [
    "tareas_pendientes = [\"Lavar\", \"Planchar\", \"Comprar\"]\n",
    "numero_tareas_hechas = 0\n",
    "while len(tareas_pendientes) > 0:\n",
    "    numero_tareas_hechas += 1\n",
    "    tareas_pendientes.pop(-1)\n",
    "print(tareas_pendientes, numero_tareas_hechas) \n"
   ]
  },
  {
   "cell_type": "markdown",
   "id": "4273cef6",
   "metadata": {},
   "source": [
    "\n",
    "## Ejercicio 36\n",
    "Dada la lista `numeros = range(1, 11)`, crea una nueva lista llamada `multiplos_de_tres` usando list comprehension que contenga solo los números de `numeros` que son divisibles por 3.\n",
    "\n",
    "> ```python\n",
    "> numeros = range(1, 11)\n",
    "> ```\n",
    "> **TIP:** Añade una condición `if` al final de la list comprehension.\n"
   ]
  },
  {
   "cell_type": "code",
   "execution_count": 25,
   "id": "cfdc9469",
   "metadata": {},
   "outputs": [
    {
     "data": {
      "text/plain": [
       "[3, 6, 9]"
      ]
     },
     "execution_count": 25,
     "metadata": {},
     "output_type": "execute_result"
    }
   ],
   "source": [
    "numeros = range(1, 11)\n",
    "[i for i in numeros if i % 3 == 0]"
   ]
  },
  {
   "cell_type": "markdown",
   "id": "d6279d52",
   "metadata": {},
   "source": [
    "\n",
    "## Ejercicio 37\n",
    "Intenta acceder a la clave \"apellido\" en el siguiente diccionario. Usa `try-except` para capturar específicamente el error `KeyError` e imprimir \"La clave 'apellido' no existe.\" si ocurre.\n",
    "> ```python\n",
    "> datos_persona = {\"nombre\": \"Luis\", \"edad\": 30}\n",
    "> ```\n"
   ]
  },
  {
   "cell_type": "code",
   "execution_count": 31,
   "id": "54d647dc",
   "metadata": {},
   "outputs": [
    {
     "name": "stdout",
     "output_type": "stream",
     "text": [
      "La clave \"apellido\" no existe\n"
     ]
    }
   ],
   "source": [
    "datos_persona = {\"nombre\": \"Luis\", \"edad\": 30}\n",
    "try:\n",
    "    datos_persona['apellido']\n",
    "except KeyError:\n",
    "    print('La clave \"apellido\" no existe')"
   ]
  },
  {
   "cell_type": "markdown",
   "id": "79309ae1",
   "metadata": {},
   "source": [
    "\n",
    "## Ejercicio 38\n",
    "Escribe un bloque `try`/`except`/`else`/`finally`. Dentro del `try`, intenta dividir 10 entre un número introducido por el usuario.\n",
    "- En `except` (captura `ZeroDivisionError` y `ValueError`), imprime un mensaje de error adecuado.\n",
    "- En `else`, imprime el resultado de la división si no hubo error.\n",
    "- En `finally`, imprime siempre \"Fin del intento de división.\".\n"
   ]
  },
  {
   "cell_type": "code",
   "execution_count": 42,
   "id": "96d02ea4",
   "metadata": {},
   "outputs": [
    {
     "name": "stdout",
     "output_type": "stream",
     "text": [
      "2.0\n",
      "Fin del intento de la division\n"
     ]
    }
   ],
   "source": [
    "numero = input('Introduce un número')\n",
    "try:\n",
    "    10/int(numero)\n",
    "except ValueError:\n",
    "    print('Introduce un número, no texto')\n",
    "except ZeroDivisionError:\n",
    "    print('Número inválido')\n",
    "else:\n",
    "    print(10/int(numero))\n",
    "finally:\n",
    "    print('Fin del intento de la division')"
   ]
  },
  {
   "cell_type": "markdown",
   "id": "2933437b",
   "metadata": {},
   "source": [
    "\n",
    "## Ejercicio 39\n",
    "Dadas dos listas, `claves = [\"a\", \"b\", \"c\"]` y `valores = [1, 2, 3]`, crea un diccionario donde los elementos de `claves` sean las claves y los de `valores` sean los valores correspondientes.\n",
    "\n",
    "> ```python\n",
    "> claves = [\"a\", \"b\", \"c\"]\n",
    "> valores = [1, 2, 3]\n",
    "> ```\n",
    "> **TIP:** Puedes iterar sobre los índices de las listas (usando `range(len(claves))`) para construir el diccionario.\n"
   ]
  },
  {
   "cell_type": "code",
   "execution_count": 1,
   "id": "b963dfb3",
   "metadata": {},
   "outputs": [
    {
     "name": "stdout",
     "output_type": "stream",
     "text": [
      "{'a': 1, 'b': 2, 'c': 3}\n"
     ]
    }
   ],
   "source": [
    "claves = [\"a\", \"b\", \"c\"]\n",
    "valores = [1, 2, 3]\n",
    "diccionario = {}\n",
    "for clave, valor in zip(claves, valores):\n",
    "    diccionario[clave] = valor\n",
    "print(diccionario)"
   ]
  },
  {
   "cell_type": "markdown",
   "id": "033fe0b2",
   "metadata": {},
   "source": [
    "\n",
    "## Ejercicio 40\n",
    "Encuentra el número más grande en la siguiente lista sin usar la función `max()`. Debes usar un bucle `for` y una variable para llevar la cuenta del máximo encontrado hasta el momento.\n",
    "> ```python\n",
    "> lista_numeros = [34, 12, 56, 78, 2, 99, 45]\n",
    "> ```\n",
    "> **TIP:** Inicializa la variable `maximo` con el primer elemento de la lista antes del bucle.\n",
    "\n"
   ]
  },
  {
   "cell_type": "code",
   "execution_count": 6,
   "id": "c54fbf02",
   "metadata": {},
   "outputs": [
    {
     "name": "stdout",
     "output_type": "stream",
     "text": [
      "El máximo es 99\n"
     ]
    }
   ],
   "source": [
    "lista_numeros = [34, 12, 56, 78, 2, 99, 45]\n",
    "maximo = lista_numeros[0]\n",
    "for numero in lista_numeros:\n",
    "    if numero > maximo:\n",
    "        maximo = numero\n",
    "print(f'El máximo es {maximo}')\n"
   ]
  }
 ],
 "metadata": {
  "kernelspec": {
   "display_name": "data_analysis_env",
   "language": "python",
   "name": "python3"
  },
  "language_info": {
   "codemirror_mode": {
    "name": "ipython",
    "version": 3
   },
   "file_extension": ".py",
   "mimetype": "text/x-python",
   "name": "python",
   "nbconvert_exporter": "python",
   "pygments_lexer": "ipython3",
   "version": "3.11.11"
  }
 },
 "nbformat": 4,
 "nbformat_minor": 5
}
