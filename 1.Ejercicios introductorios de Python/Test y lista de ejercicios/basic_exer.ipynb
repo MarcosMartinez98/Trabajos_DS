{
 "cells": [
  {
   "cell_type": "markdown",
   "id": "172e7b03",
   "metadata": {},
   "source": [
    "\n",
    "## Ejercicio 1\n",
    "Crea una variable llamada `nombre` con tu nombre y otra llamada `edad` con tu edad (como número entero). Imprime por pantalla un mensaje que diga \"Hola, me llamo [nombre] y tengo [edad] años.\" usando estas variables.\n",
    "\n"
   ]
  },
  {
   "cell_type": "code",
   "execution_count": null,
   "id": "8a381bc9",
   "metadata": {},
   "outputs": [],
   "source": []
  },
  {
   "cell_type": "markdown",
   "id": "1e0deb75",
   "metadata": {},
   "source": [
    "\n",
    "\n",
    "## Ejercicio 2\n",
    "Pide al usuario que introduzca dos números enteros por teclado. Guarda estos números en variables, súmalos y muestra el resultado por pantalla con el mensaje \"La suma es: [resultado]\".\n",
    "\n",
    "> **TIP:** La función `input()` devuelve texto (string). Necesitarás convertirlo a entero usando `int()`.\n"
   ]
  },
  {
   "cell_type": "code",
   "execution_count": null,
   "id": "ee6e54f2",
   "metadata": {},
   "outputs": [],
   "source": []
  },
  {
   "cell_type": "markdown",
   "id": "c6a3cee8",
   "metadata": {},
   "source": [
    "\n",
    "## Ejercicio 3\n",
    "Dada la variable `temperatura = 25.5`, escribe código que imprima \"Hace calor\" si la temperatura es mayor o igual a 25, y \"No hace calor\" si es menor.\n",
    "\n",
    "> ```python\n",
    "> temperatura = 25.5\n",
    "> ```\n"
   ]
  },
  {
   "cell_type": "code",
   "execution_count": null,
   "id": "718083c0",
   "metadata": {},
   "outputs": [],
   "source": []
  },
  {
   "cell_type": "markdown",
   "id": "c40f5874",
   "metadata": {},
   "source": [
    "\n",
    "## Ejercicio 4\n",
    "Dada la cadena `frase = \"python es divertido\"`, utiliza métodos de string para:\n",
    "1. Imprimir la frase completa en mayúsculas.\n",
    "2. Imprimir la frase con la primera letra de cada palabra en mayúscula.\n",
    "3. Encontrar la posición (índice) de la palabra \"divertido\".\n",
    "\n",
    "> ```python\n",
    "> frase = \"python es divertido\"\n",
    "> ```\n"
   ]
  },
  {
   "cell_type": "code",
   "execution_count": null,
   "id": "382e9c86",
   "metadata": {},
   "outputs": [],
   "source": []
  },
  {
   "cell_type": "markdown",
   "id": "2329de09",
   "metadata": {},
   "source": [
    "\n",
    "## Ejercicio 5 (Similar al ejemplo)\n",
    "Dada la siguiente lista, crea una nueva lista que contenga solo los números pares de la lista original.\n",
    "> ```python\n",
    "> numeros = [1, 2, 3, 4, 5, 6, 7, 8, 9, 10]\n",
    "> ```\n",
    "> **TIP:** Usa el operador módulo (`%`) para comprobar si un número es par. Itera sobre la lista original y añade los pares a una nueva lista.\n"
   ]
  },
  {
   "cell_type": "code",
   "execution_count": null,
   "id": "ec96e737",
   "metadata": {},
   "outputs": [],
   "source": []
  },
  {
   "cell_type": "markdown",
   "id": "b71469cc",
   "metadata": {},
   "source": [
    "\n",
    "## Ejercicio 6\n",
    "Tienes la siguiente lista de asignaturas. Añade \"Física\" al final de la lista e inserta \"Química\" en la segunda posición (índice 1). Imprime la lista resultante.\n",
    "> ```python\n",
    "> asignaturas = [\"Matemáticas\", \"Historia\", \"Lengua\"]\n",
    "> ```\n"
   ]
  },
  {
   "cell_type": "code",
   "execution_count": null,
   "id": "b2c618ff",
   "metadata": {},
   "outputs": [],
   "source": []
  },
  {
   "cell_type": "markdown",
   "id": "80100492",
   "metadata": {},
   "source": [
    "\n",
    "## Ejercicio 7\n",
    "Escribe un programa que pida al usuario su nota (un número del 0 al 10) e imprima:\n",
    "- \"Suspenso\" si la nota es menor que 5.\n",
    "- \"Aprobado\" si la nota es 5 o mayor, pero menor que 7.\n",
    "- \"Notable\" si la nota es 7 o mayor, pero menor que 9.\n",
    "- \"Sobresaliente\" si la nota es 9 o 10.\n",
    "Maneja el caso de que introduzca un número fuera del rango 0-10 con un mensaje de error.\n",
    "\n",
    "> **TIP:** Usa `if`, `elif` y `else`. No olvides convertir la entrada a número (`float` o `int`).\n"
   ]
  },
  {
   "cell_type": "code",
   "execution_count": null,
   "id": "284b134f",
   "metadata": {},
   "outputs": [],
   "source": []
  },
  {
   "cell_type": "markdown",
   "id": "7a8ca9ef",
   "metadata": {},
   "source": [
    "\n",
    "## Ejercicio 8\n",
    "Usando un bucle `for`, imprime cada uno de los días de la semana contenidos en la siguiente tupla.\n",
    "> ```python\n",
    "> dias_semana = (\"Lunes\", \"Martes\", \"Miércoles\", \"Jueves\", \"Viernes\", \"Sábado\", \"Domingo\")\n",
    "> ```\n"
   ]
  },
  {
   "cell_type": "code",
   "execution_count": null,
   "id": "067b6c61",
   "metadata": {},
   "outputs": [],
   "source": []
  },
  {
   "cell_type": "markdown",
   "id": "c33636ea",
   "metadata": {},
   "source": [
    "\n",
    "## Ejercicio 9\n",
    "Calcula la suma de todos los números en la siguiente lista usando un bucle `for`.\n",
    "> ```python\n",
    "> valores = [10, 20, 30, 40, 50]\n",
    "> ```\n",
    "> **TIP:** Inicializa una variable `suma` a 0 antes del bucle.\n"
   ]
  },
  {
   "cell_type": "code",
   "execution_count": null,
   "id": "ad598028",
   "metadata": {},
   "outputs": [],
   "source": []
  },
  {
   "cell_type": "markdown",
   "id": "06f573a7",
   "metadata": {},
   "source": [
    "\n",
    "## Ejercicio 10\n",
    "Crea un diccionario que represente un coche, con las claves \"marca\", \"modelo\" y \"año\". Asígnale valores de ejemplo (ej: \"Toyota\", \"Corolla\", 2021). Luego, imprime el valor asociado a la clave \"modelo\".\n"
   ]
  },
  {
   "cell_type": "code",
   "execution_count": null,
   "id": "fda47542",
   "metadata": {},
   "outputs": [],
   "source": []
  },
  {
   "cell_type": "markdown",
   "id": "b70f420e",
   "metadata": {},
   "source": [
    "\n",
    "## Ejercicio 11\n",
    "Dado el siguiente diccionario, añade una nueva clave \"ciudad\" con el valor \"Madrid\". Después, itera sobre el diccionario e imprime cada par clave-valor en el formato \"Clave: [clave], Valor: [valor]\".\n",
    "> ```python\n",
    "> persona = {\"nombre\": \"Ana\", \"edad\": 28}\n",
    "> ```\n",
    "> **TIP:** Puedes usar el método `.items()` para iterar sobre claves y valores simultáneamente.\n"
   ]
  },
  {
   "cell_type": "code",
   "execution_count": null,
   "id": "1d42bc0f",
   "metadata": {},
   "outputs": [],
   "source": []
  },
  {
   "cell_type": "markdown",
   "id": "3a56b745",
   "metadata": {},
   "source": [
    "\n",
    "## Ejercicio 12\n",
    "Crea una tupla con los números del 1 al 5. Intenta cambiar el segundo elemento (índice 1) a 10. Observa y explica (en un comentario en tu código) qué sucede. Luego, imprime la tupla original.\n",
    "\n",
    "> **TIP:** Las tuplas son inmutables.\n"
   ]
  },
  {
   "cell_type": "code",
   "execution_count": null,
   "id": "11482826",
   "metadata": {},
   "outputs": [],
   "source": []
  },
  {
   "cell_type": "markdown",
   "id": "d0a50b85",
   "metadata": {},
   "source": [
    "\n",
    "## Ejercicio 13\n",
    "Crea un set (conjunto) a partir de la siguiente lista para eliminar los elementos duplicados. Imprime el set resultante.\n",
    "> ```python\n",
    "> lista_con_duplicados = [1, 2, 2, 3, 4, 4, 4, 5, 1]\n",
    "> ```\n"
   ]
  },
  {
   "cell_type": "code",
   "execution_count": null,
   "id": "089145d3",
   "metadata": {},
   "outputs": [],
   "source": []
  },
  {
   "cell_type": "markdown",
   "id": "ee3405ef",
   "metadata": {},
   "source": [
    "\n",
    "## Ejercicio 14\n",
    "Escribe un bucle `while` que imprima los números del 1 al 5 (ambos incluidos).\n",
    "\n",
    "> **TIP:** Necesitarás un contador que se incremente en cada iteración y una condición de parada.\n"
   ]
  },
  {
   "cell_type": "code",
   "execution_count": null,
   "id": "40f61471",
   "metadata": {},
   "outputs": [],
   "source": []
  },
  {
   "cell_type": "markdown",
   "id": "2b1ec49f",
   "metadata": {},
   "source": [
    "\n",
    "## Ejercicio 15\n",
    "Dada la lista `ejer_15 = [3, 20, 3, 47, 19, 3, 29, 45, 67, 78, 90, 3, 3]`, crea una *nueva lista* que contenga todos los elementos de `ejer_15` excepto los que sean iguales a 3.\n",
    "\n",
    "> ```python\n",
    "> ejer_15 = [3, 20, 3, 47, 19, 3, 29, 45, 67, 78, 90, 3, 3]\n",
    "> ```\n",
    "> **TIP:** Es más seguro iterar sobre la lista original y añadir los elementos deseados a una nueva lista, en lugar de eliminar sobre la que iteras.\n"
   ]
  },
  {
   "cell_type": "code",
   "execution_count": null,
   "id": "c360de86",
   "metadata": {},
   "outputs": [],
   "source": []
  },
  {
   "cell_type": "markdown",
   "id": "8e8b8150",
   "metadata": {},
   "source": [
    "\n",
    "## Ejercicio 16\n",
    "Usando una list comprehension, crea una lista que contenga los cuadrados de los números del 1 al 10.\n",
    "\n",
    "> **TIP:** La sintaxis es `[expresion for elemento in iterable]`. `range(1, 11)` te dará los números del 1 al 10.\n"
   ]
  },
  {
   "cell_type": "code",
   "execution_count": null,
   "id": "61fe9135",
   "metadata": {},
   "outputs": [],
   "source": []
  },
  {
   "cell_type": "markdown",
   "id": "b7230e28",
   "metadata": {},
   "source": [
    "\n",
    "## Ejercicio 17\n",
    "Escribe un programa que pida al usuario un número. Intenta convertir la entrada a entero usando `int()`. Si el usuario introduce algo que no es un número entero (por ejemplo, texto), el programa debe capturar el error (`ValueError`) e imprimir \"Entrada inválida. Por favor, introduce un número entero.\" en lugar de fallar. Usa `try`/`except`.\n"
   ]
  },
  {
   "cell_type": "code",
   "execution_count": null,
   "id": "a1ef5284",
   "metadata": {},
   "outputs": [],
   "source": []
  },
  {
   "cell_type": "markdown",
   "id": "218f7992",
   "metadata": {},
   "source": [
    "\n",
    "## Ejercicio 18\n",
    "Itera sobre la siguiente lista de números. Si encuentras el número 0, detén el bucle inmediatamente e imprime \"Se encontró el cero\". Si terminas de recorrer la lista sin encontrar el 0, imprime \"No se encontró el cero\".\n",
    "> ```python\n",
    "> numeros_buscar = [12, 5, -3, 8, 0, 15, 4]\n",
    "> ```\n",
    "> **TIP:** Usa un bucle `for` con `break` y la cláusula `else` del `for`.\n"
   ]
  },
  {
   "cell_type": "code",
   "execution_count": null,
   "id": "cf962d44",
   "metadata": {},
   "outputs": [
    {
     "name": "stdout",
     "output_type": "stream",
     "text": [
      "No se encontró el cero\n"
     ]
    }
   ],
   "source": [
    "numeros_buscar = [12, 5, -3, 8, 0, 15, 4]\n",
    "encontrado = False\n",
    "\n",
    "for numero in numeros_buscar:\n",
    "    if numero == 0:\n",
    "        encontrado = True\n",
    "        break\n",
    "\n",
    "\n",
    "if encontrado == False:\n",
    "    print(\"No encontrado\")"
   ]
  },
  {
   "cell_type": "code",
   "execution_count": 8,
   "id": "c066c947",
   "metadata": {},
   "outputs": [],
   "source": [
    "import os"
   ]
  },
  {
   "cell_type": "code",
   "execution_count": null,
   "id": "ccc0d267",
   "metadata": {},
   "outputs": [],
   "source": []
  },
  {
   "cell_type": "code",
   "execution_count": 5,
   "id": "ed12e113",
   "metadata": {},
   "outputs": [],
   "source": [
    "import time"
   ]
  },
  {
   "cell_type": "code",
   "execution_count": 6,
   "id": "636a249b",
   "metadata": {},
   "outputs": [
    {
     "name": "stdout",
     "output_type": "stream",
     "text": [
      "Hola\n",
      "adios\n"
     ]
    }
   ],
   "source": [
    "print(\"Hola\")\n",
    "time.sleep(5)\n",
    "print(\"adios\")"
   ]
  },
  {
   "cell_type": "code",
   "execution_count": 3,
   "id": "518d864c",
   "metadata": {},
   "outputs": [],
   "source": [
    "import math"
   ]
  },
  {
   "cell_type": "code",
   "execution_count": 4,
   "id": "3edd3f88",
   "metadata": {},
   "outputs": [
    {
     "data": {
      "text/plain": [
       "0.0"
      ]
     },
     "execution_count": 4,
     "metadata": {},
     "output_type": "execute_result"
    }
   ],
   "source": [
    "math.sin(0)"
   ]
  },
  {
   "cell_type": "code",
   "execution_count": 2,
   "id": "868b6f48",
   "metadata": {},
   "outputs": [
    {
     "data": {
      "text/plain": [
       "{'__name__': '__main__',\n",
       " '__doc__': 'Automatically created module for IPython interactive environment',\n",
       " '__package__': None,\n",
       " '__loader__': None,\n",
       " '__spec__': None,\n",
       " '__builtin__': <module 'builtins' (built-in)>,\n",
       " '__builtins__': <module 'builtins' (built-in)>,\n",
       " '_ih': ['', 'globals', 'globals()'],\n",
       " '_oh': {1: <function globals()>},\n",
       " '_dh': [WindowsPath('c:/Users/Ort/Desktop/REPO-CLASE-abr2025/1-Ramp_up/Python')],\n",
       " 'In': ['', 'globals', 'globals()'],\n",
       " 'Out': {1: <function globals()>},\n",
       " 'get_ipython': <bound method InteractiveShell.get_ipython of <ipykernel.zmqshell.ZMQInteractiveShell object at 0x000001B91D89EE70>>,\n",
       " 'exit': <IPython.core.autocall.ZMQExitAutocall at 0x1b91f0b7380>,\n",
       " 'quit': <IPython.core.autocall.ZMQExitAutocall at 0x1b91f0b7380>,\n",
       " 'open': <function _io.open(file, mode='r', buffering=-1, encoding=None, errors=None, newline=None, closefd=True, opener=None)>,\n",
       " '_': <function globals()>,\n",
       " '__': '',\n",
       " '___': '',\n",
       " '__vsc_ipynb_file__': 'c:\\\\Users\\\\Ort\\\\Desktop\\\\REPO-CLASE-abr2025\\\\1-Ramp_up\\\\Python\\\\basic_exer.ipynb',\n",
       " '_i': 'globals',\n",
       " '_ii': '',\n",
       " '_iii': '',\n",
       " '_i1': 'globals',\n",
       " '_1': <function globals()>,\n",
       " '_i2': 'globals()'}"
      ]
     },
     "execution_count": 2,
     "metadata": {},
     "output_type": "execute_result"
    }
   ],
   "source": [
    "globals()"
   ]
  },
  {
   "cell_type": "code",
   "execution_count": null,
   "id": "bfdc4489",
   "metadata": {},
   "outputs": [],
   "source": [
    "a= [1]\n",
    "for i in a:\n",
    "    a.append(i+1)\n"
   ]
  },
  {
   "cell_type": "markdown",
   "id": "3005707f",
   "metadata": {},
   "source": [
    "\n",
    "## Ejercicio 19\n",
    "Itera sobre la lista `procesar = [1, -2, 3, -4, 5, -6]`. Imprime solo los números positivos. Si encuentras un número negativo, debes saltar a la siguiente iteración sin imprimirlo.\n",
    "> ```python\n",
    "> procesar = [1, -2, 3, -4, 5, -6]\n",
    "> ```\n",
    "> **TIP:** Usa un `if` dentro del bucle y la palabra clave `continue`.\n"
   ]
  },
  {
   "cell_type": "code",
   "execution_count": null,
   "id": "e4af48f0",
   "metadata": {},
   "outputs": [],
   "source": []
  },
  {
   "cell_type": "markdown",
   "id": "ae9a4e85",
   "metadata": {},
   "source": [
    "\n",
    "## Ejercicio 20\n",
    "Tienes una lista de diccionarios representando estudiantes. Itera sobre la lista e imprime el nombre de los estudiantes que hayan aprobado (nota >= 5).\n",
    "> ```python\n",
    "> estudiantes = [\n",
    ">     {\"nombre\": \"Carlos\", \"nota\": 7},\n",
    ">     {\"nombre\": \"Laura\", \"nota\": 4},\n",
    ">     {\"nombre\": \"Pedro\", \"nota\": 9},\n",
    ">     {\"nombre\": \"Sofia\", \"nota\": 5}\n",
    "> ]\n",
    "> ```\n",
    "> **TIP:** Dentro del bucle `for`, accederás a cada diccionario. Usa la clave \"nota\" para comprobar la condición y la clave \"nombre\" para imprimir.\n"
   ]
  },
  {
   "cell_type": "code",
   "execution_count": 29,
   "id": "b8f368d1",
   "metadata": {},
   "outputs": [
    {
     "data": {
      "text/plain": [
       "'error'"
      ]
     },
     "execution_count": 29,
     "metadata": {},
     "output_type": "execute_result"
    }
   ],
   "source": [
    "estudiantes[0].get(\"estatura\", \"error\")"
   ]
  },
  {
   "cell_type": "code",
   "execution_count": 30,
   "id": "3e686490",
   "metadata": {},
   "outputs": [
    {
     "name": "stdout",
     "output_type": "stream",
     "text": [
      "Carlos aprobado\n",
      "Laura suspendido\n",
      "Pedro no tiene nota\n",
      "Sofia aprobado\n"
     ]
    }
   ],
   "source": [
    "estudiantes = [\n",
    " {\"nombre\": \"Carlos\", \"nota\": 7},\n",
    "     {\"nombre\": \"Laura\", \"nota\": 4},\n",
    "     {\"nombre\": \"Pedro\"},\n",
    "     {\"nombre\": \"Sofia\", \"nota\": 5}\n",
    "]\n",
    "for estudiante in estudiantes:\n",
    "    if estudiante.get(\"nota\", 11) < 5:\n",
    "        print(estudiante[\"nombre\"], \"suspendido\")\n",
    "    elif estudiante.get(\"nota\", 11) <= 10:\n",
    "        print(estudiante[\"nombre\"], \"aprobado\")\n",
    "    else:\n",
    "        print(estudiante[\"nombre\"], \"no tiene nota\")"
   ]
  },
  {
   "cell_type": "code",
   "execution_count": null,
   "id": "6fe7cedf",
   "metadata": {},
   "outputs": [
    {
     "name": "stdout",
     "output_type": "stream",
     "text": [
      "Carlos aprobado\n",
      "Laura suspendido\n",
      "Pedro no tiene nota\n",
      "Sofia aprobado\n"
     ]
    }
   ],
   "source": [
    "estudiantes = [\n",
    " {\"nombre\": \"Carlos\", \"nota\": 7},\n",
    "     {\"nombre\": \"Laura\", \"nota\": 4},\n",
    "     {\"nombre\": \"Pedro\"},\n",
    "     [\"jhgdlhfj\"],\n",
    "     {\"nombre\": \"Sofia\", \"nota\": 5}\n",
    "]\n",
    "\n",
    "for estudiante in estudiantes:\n",
    "    if \"nota\" in estudiante.keys():\n",
    "        if estudiante[\"nota\"] < 5:\n",
    "            print(estudiante[\"nombre\"], \"suspendido\")\n",
    "        else:\n",
    "            print(estudiante[\"nombre\"], \"aprobado\")\n",
    "    else:\n",
    "        print(estudiante[\"nombre\"], \"no tiene nota\")"
   ]
  },
  {
   "cell_type": "code",
   "execution_count": 9,
   "id": "66a030e1",
   "metadata": {},
   "outputs": [],
   "source": [
    "import seaborn\n",
    "import numpy as np"
   ]
  },
  {
   "cell_type": "code",
   "execution_count": 11,
   "id": "b6440d4b",
   "metadata": {},
   "outputs": [
    {
     "data": {
      "text/plain": [
       "array([-2.19039568e-01, -1.08065673e+00,  1.22696121e+00, -1.78107087e+00,\n",
       "       -4.18018859e-01, -7.13260867e-01,  3.53009493e-01,  1.60901306e+00,\n",
       "        1.43025788e+00,  2.03002602e-01, -4.32918160e-01, -2.81765826e+00,\n",
       "        2.35913263e-01,  6.99545983e-02, -7.23879953e-01, -8.64684807e-01,\n",
       "       -8.02143581e-01,  2.21551889e-01,  6.48088136e-01, -3.81510355e-01,\n",
       "        4.56889142e-01,  1.69444606e-01,  1.13601248e+00, -1.59290372e+00,\n",
       "        7.43510732e-02,  2.18647098e+00, -1.03241656e-01, -1.76345395e+00,\n",
       "       -1.05376148e+00, -1.66396435e+00, -3.96898876e-01,  5.92910224e-01,\n",
       "        5.32681763e-02,  1.64904183e+00, -7.52549913e-01, -1.08599746e+00,\n",
       "        1.01713562e+00,  1.33198308e-01,  1.73187481e+00,  1.48687382e+00,\n",
       "       -6.79545536e-01,  1.46651385e-02, -2.92242001e-01,  4.00729352e-01,\n",
       "       -2.31123483e+00, -6.57899491e-01,  6.78678750e-01, -1.47409164e+00,\n",
       "        7.56284474e-01, -4.16922312e-01, -8.97059442e-01,  7.70085218e-02,\n",
       "       -1.10298852e-01,  3.13289766e-01,  7.48771818e-01,  1.61827440e+00,\n",
       "       -3.15345600e-01,  1.45259860e+00,  1.82785313e-01, -9.13767584e-01,\n",
       "        8.77731460e-02,  5.25403536e-01, -7.24394505e-01, -4.60459695e-01,\n",
       "       -6.29913606e-01,  1.23384720e+00,  1.91096233e+00, -7.79645261e-01,\n",
       "       -1.36784045e+00, -7.04859356e-01,  1.47351410e+00, -1.99165582e+00,\n",
       "       -1.00509855e+00,  1.22102101e-01,  2.17926060e+00,  1.20824070e+00,\n",
       "        5.10140135e-01, -8.85208928e-01, -1.05473072e+00, -1.71229070e-03,\n",
       "       -1.56658621e+00,  2.33862503e-01, -1.34245680e+00,  6.68304585e-03,\n",
       "        4.50390650e-01,  1.44447649e+00,  3.89171159e-01,  9.68466245e-01,\n",
       "       -1.06679890e+00, -6.19426238e-02, -9.16625967e-01, -4.08599960e-01,\n",
       "        3.44122718e-01,  9.27686096e-01, -7.60622737e-01, -7.64797936e-02,\n",
       "       -3.98987101e-02,  1.10499986e+00,  4.94339958e-01,  7.49330731e-01,\n",
       "       -6.85176146e-01,  1.29438071e-01, -2.36496235e-01,  1.06196351e+00,\n",
       "        7.85194167e-01, -1.21138299e+00,  2.26054281e+00,  7.16318105e-01,\n",
       "       -1.55861571e+00,  1.01568397e+00, -1.72839281e-01,  1.62599110e+00,\n",
       "       -6.60797479e-02, -1.02400679e-01,  2.22215187e-01,  1.00375409e+00,\n",
       "       -1.56294990e+00,  8.43326676e-01,  3.97282309e-01,  2.89660083e-01,\n",
       "        1.46742914e-01,  4.27985856e-01,  4.22737214e-01, -9.51759042e-01,\n",
       "        2.39470250e-01,  1.97134133e-01,  6.70727284e-01,  4.18688820e-01,\n",
       "       -2.07083155e+00, -2.52549962e+00, -1.88915625e+00,  1.84197031e-01,\n",
       "       -1.43867379e+00,  6.18945275e-01,  6.01965858e-01,  8.89360446e-01,\n",
       "       -1.69151022e+00,  4.54472156e-01, -3.09497379e-01, -1.22034781e+00,\n",
       "       -1.66392506e-01, -3.51714125e-01, -1.64962014e+00, -3.11207161e-01,\n",
       "        3.59170445e-01, -1.80593745e+00, -3.82120546e-01, -9.11874064e-01,\n",
       "        3.81061781e-01, -1.09696712e+00,  1.65918619e-01,  3.10401590e-01,\n",
       "       -1.84363337e+00, -4.45760697e-01,  9.32274021e-01, -3.04029020e-01,\n",
       "        1.65530881e-01,  5.19782783e-01, -3.29201036e-02, -4.79074551e-01,\n",
       "        6.45993727e-01, -1.33863224e+00,  1.19132283e+00,  1.52257005e+00,\n",
       "        8.56892068e-01, -8.59734673e-01,  1.62781808e+00, -7.65904691e-01,\n",
       "        3.80230110e-01,  3.90650283e-01, -2.30923397e-01,  6.52797424e-01,\n",
       "        8.96437621e-01,  5.92935615e-01,  1.08099135e+00, -1.37694336e+00,\n",
       "        4.74829290e-01, -1.50791404e+00,  8.15482910e-01, -5.87372724e-01,\n",
       "        1.44680558e+00,  1.01721001e+00, -2.92577094e+00,  4.59634145e-02,\n",
       "       -1.68050606e+00, -9.22764759e-01,  9.10189483e-02,  2.16193680e-01,\n",
       "       -6.44879127e-01, -2.84632966e-01, -5.93466275e-01,  1.41072656e+00,\n",
       "       -8.94993255e-01, -1.59856813e+00,  1.59614116e+00, -2.83284767e-02,\n",
       "        6.23253453e-01, -3.85863113e-01, -7.28041216e-01, -3.54970425e-01,\n",
       "       -5.51244428e-01, -6.09130494e-01,  5.35959551e-01, -3.87328270e-01,\n",
       "       -1.70552833e+00,  2.26014119e+00,  1.06521472e+00, -4.24379675e-01,\n",
       "        3.90984938e-01,  9.03864365e-01,  3.93951703e-01,  2.01835515e-01,\n",
       "       -2.28652848e+00,  1.00753984e+00,  2.80724079e-01,  1.56816854e+00,\n",
       "       -6.10728630e-02, -5.82089543e-01,  9.91830214e-01,  3.82489480e-01,\n",
       "       -1.22352089e+00, -3.22596018e-01, -8.37088951e-01, -9.25684280e-01,\n",
       "       -1.11430568e+00,  4.01903246e-01, -3.47068380e-02,  8.09454807e-01,\n",
       "        1.60707772e+00, -1.31884030e+00, -1.37839434e+00,  4.84612520e-01,\n",
       "        1.00175342e+00, -1.16318017e+00,  9.55936380e-01, -5.36825854e-01,\n",
       "        1.40534587e+00,  6.52583591e-01, -7.93201950e-01,  5.58846850e-01,\n",
       "       -6.02019143e-01,  7.31674877e-01, -1.73443454e+00, -4.92541261e-01,\n",
       "        7.66876474e-01,  5.11081794e-01,  1.99332103e+00,  4.01078249e-01,\n",
       "        1.27212041e+00, -1.63770165e+00,  1.37724630e+00, -4.64629544e-01,\n",
       "       -7.73513369e-01, -1.31901447e+00,  6.01378487e-01, -3.75774060e-01,\n",
       "        3.13138178e-01, -4.06258420e-01, -5.34872146e-01,  1.88175659e-01,\n",
       "        2.02063459e-01, -4.11215291e-01,  5.55316681e-01, -1.30955218e+00,\n",
       "        1.05026282e-01, -1.26237679e-02, -7.09987248e-01, -9.91992430e-01,\n",
       "        3.12258709e-01, -5.32875902e-01,  1.14076125e+00,  2.18459854e-01,\n",
       "       -6.49864497e-01, -1.43576359e+00,  3.20331338e-01,  1.09361297e+00,\n",
       "        5.59478783e-01, -1.06763108e+00,  1.11673021e+00,  8.55046192e-01,\n",
       "       -2.65337056e+00, -1.49002968e-01,  9.60028129e-01,  1.26909092e+00,\n",
       "       -3.65019891e-01, -7.01478959e-01,  2.29818951e+00, -9.91027939e-01,\n",
       "        9.93929018e-01,  8.49991280e-01, -6.26976880e-02,  1.73405639e-01,\n",
       "        6.93633400e-01,  1.40481363e+00,  3.03700032e-01, -1.45786821e-01,\n",
       "        1.10796012e+00,  4.43918884e-01,  1.25163451e-01,  5.91236236e-01,\n",
       "        2.60863129e-01,  1.08590893e-01, -2.32601736e-01,  1.03958277e+00,\n",
       "        7.14083759e-01,  1.08522172e+00,  4.77411872e-02, -3.99660164e-01,\n",
       "       -3.89949933e-01, -8.40678003e-01, -1.09761905e+00, -7.00174136e-01,\n",
       "        1.14115321e+00,  3.82903227e-01,  3.02500846e-01,  1.91277699e+00,\n",
       "       -7.98962990e-01, -1.73129584e-01,  1.12154806e-01,  4.20383204e-01,\n",
       "        9.23176484e-01,  7.38074653e-01, -1.82634657e+00,  8.98240809e-01,\n",
       "        6.31837555e-01, -2.13751643e+00,  1.34121758e+00, -1.85617326e-01,\n",
       "       -2.99759032e-02,  2.26992701e+00, -1.29889214e+00,  8.04184769e-01,\n",
       "        1.57257866e+00, -1.24677219e+00, -4.71875634e-01,  6.24740990e-01,\n",
       "       -8.22132955e-01, -1.61201143e+00,  1.48380792e+00,  7.72060244e-01,\n",
       "       -1.00662132e+00,  1.88933189e-01,  1.20244265e+00,  5.57960094e-01,\n",
       "       -1.20953073e+00, -1.36290626e+00,  1.37634067e+00, -6.72966249e-01,\n",
       "       -1.35972912e+00,  9.48374066e-03, -9.63973773e-01,  4.15111121e-01,\n",
       "        1.39136109e+00, -1.31207116e+00, -2.26547317e+00,  1.18892049e+00,\n",
       "        1.08439260e-01,  4.90669714e-01,  3.36846619e-01,  2.73787623e-01,\n",
       "       -2.35241240e-01, -7.39674630e-01,  8.18496259e-01,  6.16467762e-01,\n",
       "        7.86686142e-01,  1.32104680e-03, -2.41921602e-01, -1.83411638e+00,\n",
       "       -1.55164188e+00,  2.38180936e-01, -1.47279019e+00, -1.39934867e+00,\n",
       "        7.72394067e-02,  9.62267284e-01, -1.26779709e+00, -1.06704784e+00,\n",
       "        1.07545434e+00,  1.25727449e+00,  2.71869792e-01,  5.19184045e-01,\n",
       "       -4.10165746e-01, -9.76059476e-01,  7.47098951e-01,  1.34109278e+00,\n",
       "       -3.54104980e-01,  1.86873646e+00,  2.60637276e-04, -3.20927369e-01,\n",
       "       -2.93214863e-01, -4.36481657e-01, -3.60569694e-01,  1.31696841e+00,\n",
       "       -8.78082709e-01, -1.65744388e+00,  4.52139716e-03, -1.87236669e-02,\n",
       "       -9.57321656e-02, -2.58952988e-01,  1.11014337e+00,  5.57629975e-01,\n",
       "       -1.57810524e-01, -1.02689580e+00, -2.77866672e+00,  5.10043854e-01,\n",
       "       -1.37513923e-01,  6.24848965e-01, -1.83580001e+00,  1.55461362e-02,\n",
       "       -1.86815538e+00,  4.75003451e-01,  3.66796451e-01, -3.04112727e-01,\n",
       "       -1.41589169e+00,  1.21534795e+00,  2.00866853e-01,  2.06393782e-01,\n",
       "       -9.47336809e-02, -3.57452226e-01,  6.63183682e-01, -1.77990840e-01,\n",
       "        1.04262203e-01, -1.15219562e+00, -4.70722196e-01, -1.25579574e+00,\n",
       "        1.34343108e+00, -1.36263511e+00,  5.23419206e-01,  9.43254438e-01,\n",
       "       -3.87141623e-03,  1.12858121e-01, -2.13526006e+00,  1.74108176e+00,\n",
       "       -1.65865325e+00,  1.87147210e-01, -1.21015613e+00,  3.44707542e-01,\n",
       "        1.04148761e+00, -6.98287998e-01,  7.65493467e-01, -1.05598468e-01,\n",
       "       -1.10262476e-01, -4.13604495e-01, -7.31781838e-01,  1.54741122e+00,\n",
       "        2.34610864e-01, -5.89277646e-01,  4.69089514e-01, -9.75637883e-01,\n",
       "        3.66150571e-01,  5.68712448e-01, -2.13193830e-01,  1.09787931e+00,\n",
       "       -1.68019140e+00,  1.30752215e+00,  5.14733304e-01, -3.79126995e-01,\n",
       "        6.65532654e-01,  1.16651834e-01, -1.33619528e+00, -3.78206943e-01,\n",
       "       -1.30950988e+00,  4.46812690e-01, -1.81727841e+00, -3.49126430e-01,\n",
       "       -2.25427410e-01, -1.39527364e-01, -1.06157732e-01, -7.18403723e-01,\n",
       "        7.64411198e-01, -5.29924496e-01,  1.38937610e+00,  5.77049297e-01,\n",
       "        6.03467988e-01, -2.71189623e+00,  1.93347689e+00,  5.20455960e-01,\n",
       "       -6.67404685e-01, -4.31178628e-01,  4.54112055e-01, -1.00462082e+00,\n",
       "       -1.11225872e+00,  6.32230090e-02,  1.11862953e+00, -1.97775155e+00,\n",
       "       -9.34214216e-01, -4.46747423e-01,  9.52368819e-01, -1.59561625e+00,\n",
       "        1.52613504e-02, -8.12989018e-01, -9.27694277e-01,  2.37758063e+00,\n",
       "       -1.17287079e+00,  1.70934547e+00, -1.92890047e-01,  8.21322790e-01,\n",
       "        1.68058900e+00,  8.33747382e-01,  1.40817402e+00, -8.06286433e-01,\n",
       "       -6.16253993e-01, -7.38066365e-01,  7.48219819e-01, -6.70717069e-02,\n",
       "        7.69711667e-01,  1.50966446e+00,  2.54372946e-01, -2.33539894e+00,\n",
       "       -7.66483666e-02, -2.56153374e-01, -8.84986774e-01,  2.44502127e+00,\n",
       "        1.34928363e-01,  9.27525669e-01, -1.27339443e+00,  1.22978959e+00,\n",
       "       -1.23297189e+00, -1.07799237e+00, -1.08829936e+00,  1.01252133e+00,\n",
       "        1.33170189e+00, -5.09775765e-01, -5.83622068e-01, -9.35230215e-01,\n",
       "       -1.05744336e+00, -2.09760542e-01, -1.01666053e+00, -8.95050315e-02,\n",
       "        5.46159991e-01,  9.63945487e-01, -6.08949501e-01,  3.32509932e-01,\n",
       "       -4.85401180e-01,  1.92689206e+00,  1.14748155e+00, -1.21708743e+00,\n",
       "       -7.43856316e-01, -1.12481446e+00, -9.32586346e-01, -1.46823661e+00,\n",
       "       -1.20404822e+00,  1.54727502e-02,  8.81068370e-01,  4.82853329e-01,\n",
       "        4.00537670e-01,  6.98999600e-01, -5.86704725e-01,  9.42549332e-01,\n",
       "        1.59768359e-02, -3.21010697e-01,  1.07661488e+00, -3.63987752e-02,\n",
       "        3.51187861e-02, -5.91810931e-01, -1.82234006e-01, -3.02137012e-01,\n",
       "       -6.21422382e-01, -1.20517773e+00, -1.33545214e+00, -1.46655770e-02,\n",
       "        9.03197261e-01,  1.04584486e+00, -6.39310289e-01,  6.35129415e-02,\n",
       "        2.91209284e-01, -9.83473948e-01, -1.15289353e+00, -5.43620137e-01,\n",
       "        7.55680760e-01,  2.26519703e-01, -1.45800900e+00, -1.41734451e+00,\n",
       "        5.45114215e-01,  2.19915219e-01,  9.56926812e-02, -2.21492798e-01,\n",
       "       -6.24118207e-01,  7.86231941e-02, -2.06837907e-01, -4.42630408e-01,\n",
       "        1.77895910e-01,  1.35496430e-01, -6.84646069e-01, -1.49987446e+00,\n",
       "        5.05945395e-01,  5.50356759e-02,  4.00503431e-01,  5.80033728e-02,\n",
       "       -2.28764963e-01, -8.28517512e-01,  2.57405882e-01, -2.65562082e+00,\n",
       "        7.59249679e-01, -8.67185991e-01, -3.43831858e-01, -6.87687731e-01,\n",
       "        1.60203831e+00,  1.41457972e+00, -7.48430086e-01,  3.81112475e-01,\n",
       "       -1.52736534e+00, -8.46265703e-01, -6.39149684e-01, -1.70534043e+00,\n",
       "       -1.82741121e-01, -2.33070738e-01,  3.80727998e-01, -2.55718807e+00,\n",
       "        1.70524676e-01,  1.81267118e+00,  1.36453342e-01,  8.38909826e-01,\n",
       "       -1.10048633e+00, -2.76808265e-01, -1.18616230e-01,  2.75371879e-01,\n",
       "       -4.53174523e-01,  1.77711221e-01, -2.85768163e-01, -5.23234157e-01,\n",
       "       -1.63729972e+00,  1.43628641e-01,  1.30488226e+00, -1.50787638e+00,\n",
       "       -1.46931542e+00,  1.61566997e-01,  2.23941924e-01, -7.85598207e-01,\n",
       "        7.13339970e-01, -7.76542821e-01,  1.81093843e+00, -1.61817507e-01,\n",
       "        5.74370070e-01,  8.34795270e-01, -9.30263476e-01,  3.38802348e-01,\n",
       "        2.60587948e+00, -4.48740492e-01,  8.56328625e-01,  1.09343393e+00,\n",
       "        6.12316483e-01, -2.73751547e-01,  2.00487188e+00, -9.42018498e-02,\n",
       "        1.32042867e+00, -1.70072803e+00, -1.37224707e-01, -1.89949836e-01,\n",
       "        4.59789833e-01, -5.37796389e-01,  9.85191786e-01,  5.62937484e-01,\n",
       "        1.66794252e+00,  2.49657434e-01,  9.00414507e-02, -1.13054156e-01,\n",
       "        1.10794298e+00, -1.20254107e+00, -5.90477230e-01,  2.02080853e-01,\n",
       "        1.04052605e+00,  8.12744885e-03, -7.02318713e-02, -2.60029866e+00,\n",
       "       -3.93942540e-02, -6.78622704e-03, -6.27646880e-01, -1.00443778e+00,\n",
       "       -2.15492559e-01,  1.13624807e+00, -1.25769391e-01, -8.60346394e-01,\n",
       "       -1.33714075e+00,  1.95153893e-01,  8.04600277e-01, -4.52422548e-01,\n",
       "       -1.05113216e+00,  1.88262008e-01, -4.39187096e-01,  8.43796475e-01,\n",
       "        3.27080523e-01,  1.55860448e+00, -2.57429909e-02, -9.43236796e-02,\n",
       "       -2.77230542e-04,  1.21883461e-03,  1.49054923e-01,  4.00156432e-01,\n",
       "        3.13197215e-02, -7.79881313e-01,  5.54414718e-01,  9.83022798e-01,\n",
       "        3.55964109e-01,  1.28056304e+00,  4.34691001e-02, -1.24290902e+00,\n",
       "        4.95654354e-01,  2.86127300e-01,  9.35838943e-01, -9.95113866e-01,\n",
       "       -4.57854203e-01, -3.16301909e-01, -1.95706452e+00,  2.61936218e-01,\n",
       "        1.33748879e-01, -1.14953164e+00, -8.11835185e-01, -1.66613020e+00,\n",
       "       -9.80550035e-02,  5.66464073e-01,  4.23737236e-02, -2.46573648e-01,\n",
       "       -3.15691614e-01, -4.90470515e-01, -1.91466121e-01, -2.86571380e-01,\n",
       "        1.38324953e+00,  8.11377929e-01, -2.30570720e+00,  6.08992191e-01,\n",
       "        7.18968426e-01, -7.26117214e-02, -5.95280833e-01, -4.16468229e-01,\n",
       "       -1.43212460e+00, -1.31618309e+00, -1.94156290e+00, -1.67949650e+00,\n",
       "       -1.83083756e+00, -1.03664612e+00,  1.47221776e+00, -2.05266092e+00,\n",
       "       -1.56304476e-02,  1.04986982e+00, -1.53133469e+00,  2.25076494e+00,\n",
       "        8.78832645e-01, -2.19226171e-01, -3.31676646e-01,  9.73243146e-01,\n",
       "       -9.46559075e-01,  3.24455156e-01,  7.12463672e-01,  9.12322010e-01,\n",
       "       -3.27897040e-01, -2.67004110e+00, -1.58092465e+00,  1.73625740e+00,\n",
       "        2.07756245e-01, -2.68246494e-01,  2.45403462e-01,  5.03448856e-01,\n",
       "        5.02182570e-01, -1.70762680e+00, -9.06920790e-01, -1.34440107e+00,\n",
       "        1.15633106e+00, -3.22435808e-01,  6.57363924e-01,  1.33580676e+00,\n",
       "        5.37317939e-01,  1.43410865e+00,  8.54985038e-01, -2.55107228e-01,\n",
       "        1.50386119e-01,  1.58336820e+00, -6.08016600e-01, -1.87810398e-01,\n",
       "        5.39123302e-03,  4.84888660e-01,  1.87668350e-01, -8.71550165e-01,\n",
       "       -2.29625166e-01,  1.87788297e-01,  7.27713029e-01,  8.09726291e-02,\n",
       "        1.11384748e+00, -1.04007931e-01,  6.04247374e-01, -2.39741855e-01,\n",
       "        7.50981910e-01, -5.40747649e-01, -9.01217672e-02, -4.51503541e-01,\n",
       "       -6.32871609e-02, -1.84880397e-01,  5.06272597e-01, -2.31998294e+00,\n",
       "       -3.65434376e-01,  1.46687312e+00,  8.80182162e-02,  7.33447805e-01,\n",
       "       -8.32907879e-01, -5.45075904e-01, -5.69306098e-01,  8.61871051e-01,\n",
       "        1.80218790e+00, -2.40565329e+00, -7.61548813e-01,  4.43099174e-01,\n",
       "       -6.48062972e-01, -1.46899766e-01, -1.03078649e+00,  3.99420677e-01,\n",
       "        1.74464154e+00, -1.93763089e+00, -1.98590062e+00,  2.53635061e-01,\n",
       "       -1.97347589e+00, -1.46947680e+00,  2.24372948e-01, -6.68957040e-01,\n",
       "        1.20280940e-01,  6.52416786e-02,  3.37014493e-01, -8.11804103e-01,\n",
       "        7.65840183e-01,  5.26045094e-01, -7.24624715e-01,  1.79850121e+00,\n",
       "       -1.63962059e-01,  3.28855282e-01, -8.83578092e-01, -1.51095469e-01,\n",
       "       -7.43359735e-01, -1.41499345e+00,  1.99416292e-01, -1.46959347e+00,\n",
       "        1.62575973e-01, -9.25824724e-01, -1.12248505e+00, -1.24807920e-01,\n",
       "       -5.78520813e-01,  2.49358193e-01, -4.87795400e-01,  1.84336295e-02,\n",
       "       -5.20509693e-01, -5.34482176e-01,  1.12017007e+00,  8.91255922e-01,\n",
       "        1.72661931e-01,  3.53092583e-01,  5.39389492e-01, -1.95973407e-01,\n",
       "       -1.35215076e+00, -1.66225764e+00,  3.65651754e-01, -7.00134160e-01,\n",
       "       -1.47792645e+00, -7.24702814e-01,  1.16984802e-01, -1.48155331e+00,\n",
       "       -1.05084166e+00, -9.24136430e-01, -1.04523728e+00, -1.00732831e-01,\n",
       "       -1.29175797e+00,  1.51164475e+00, -1.80656919e+00,  3.75781592e-01,\n",
       "        1.41943240e-01, -2.73623556e-01, -9.53907549e-01, -6.04537613e-01,\n",
       "        1.62105473e+00, -4.68771340e-01,  4.68035865e-01,  2.40374035e+00,\n",
       "       -4.40287696e-01,  6.72678480e-01,  1.37785671e+00,  5.76648708e-01,\n",
       "       -9.12251582e-02,  9.34155350e-01, -6.20856388e-02,  3.67835602e-01,\n",
       "        1.29314539e-02,  4.25182522e-01,  2.27814231e-01,  1.98050392e+00,\n",
       "        1.45084542e+00, -7.81599446e-01, -1.12752584e+00,  4.28594411e-02,\n",
       "        1.01166431e+00, -3.48606362e-02, -6.84937607e-01, -5.68513582e-01,\n",
       "       -5.95330118e-01, -1.69821435e+00,  4.72734261e-01, -9.71759203e-01,\n",
       "       -2.72944998e-01, -8.52857573e-01,  1.41000083e+00,  6.38297660e-01,\n",
       "        1.23171591e-01, -8.70110344e-01,  9.01225496e-03,  5.00360012e-01,\n",
       "        1.58026073e+00, -9.52722336e-01,  1.12625870e+00, -1.60371617e+00,\n",
       "       -2.28104644e-01, -4.44654918e-01,  3.82436028e-01, -1.28516173e-01,\n",
       "       -5.92293058e-01, -3.38246483e-01,  2.50682615e-01, -7.45992691e-01,\n",
       "        4.54641035e-01, -2.40366841e-01, -2.69197121e-01,  1.94823224e-01,\n",
       "        4.25461385e-01,  6.02060905e-01, -1.23116139e+00, -4.53601235e-01,\n",
       "       -8.75729615e-01,  1.62619179e+00, -1.12303589e+00, -5.40857481e-01,\n",
       "        1.15232748e+00, -2.64406082e-01, -1.36756837e-01, -1.73718423e+00,\n",
       "       -6.13667982e-01, -8.30614999e-01,  1.03713295e+00, -6.12349249e-01,\n",
       "        2.89979822e-01, -5.37825016e-02, -2.02011933e+00, -7.18824190e-01,\n",
       "        5.47042108e-01, -1.72044084e-01, -1.25777530e+00, -9.19598503e-01,\n",
       "       -4.02950673e-01, -2.78973208e-01,  1.18880153e+00, -1.43435375e+00,\n",
       "       -2.41234041e-01, -1.22913604e+00, -1.44089592e-01,  3.15836841e-01,\n",
       "        3.67888444e-01, -4.60504624e-01,  3.25773664e-01,  1.87542172e+00,\n",
       "        8.09781344e-02,  1.35681802e-01,  9.08849518e-01, -2.66584052e-01,\n",
       "        2.53083846e-01,  4.20785285e-01,  5.84350140e-01,  3.76550280e-01,\n",
       "       -1.10832404e+00, -6.75022669e-01, -6.18620661e-01, -6.70849850e-01,\n",
       "        1.13754942e+00, -2.65601294e+00,  1.37222701e+00, -7.35063456e-01,\n",
       "        9.85914366e-01,  1.48028876e+00, -3.48215606e-01,  9.58637166e-01,\n",
       "       -9.65696210e-01,  8.88536907e-01, -2.26973687e-01, -7.04732907e-02,\n",
       "       -1.07693981e+00, -9.54893452e-01,  7.11560705e-01, -9.18041507e-02,\n",
       "       -9.14702829e-01,  5.98665122e-01, -1.10530456e+00, -5.59736880e-01,\n",
       "       -1.85966978e+00,  8.95842607e-01, -1.68691534e-01, -6.79827902e-01,\n",
       "        2.16311298e-01, -2.63497251e-01, -1.29135938e+00, -4.45370500e-01,\n",
       "        3.21764161e-01, -2.84968727e-01,  6.67188052e-01, -5.93651310e-01,\n",
       "       -1.78669713e+00, -1.61669504e-01, -1.72549567e-02, -2.55736608e-01])"
      ]
     },
     "execution_count": 11,
     "metadata": {},
     "output_type": "execute_result"
    }
   ],
   "source": [
    "np.random.randn(1000)"
   ]
  },
  {
   "cell_type": "code",
   "execution_count": null,
   "id": "36a4254d",
   "metadata": {},
   "outputs": [
    {
     "data": {
      "text/plain": [
       "<seaborn.axisgrid.FacetGrid at 0x1f32654d1d0>"
      ]
     },
     "execution_count": 10,
     "metadata": {},
     "output_type": "execute_result"
    },
    {
     "data": {
      "image/png": "[encoded data removed]",
      "text/plain": [
       "<Figure size 500x500 with 1 Axes>"
      ]
     },
     "metadata": {},
     "output_type": "display_data"
    }
   ],
   "source": [
    "seaborn.displot()"
   ]
  },
  {
   "cell_type": "code",
   "execution_count": null,
   "id": "886afd66",
   "metadata": {},
   "outputs": [],
   "source": []
  }
 ],
 "metadata": {
  "kernelspec": {
   "display_name": "crewai_env",
   "language": "python",
   "name": "python3"
  },
  "language_info": {
   "codemirror_mode": {
    "name": "ipython",
    "version": 3
   },
   "file_extension": ".py",
   "mimetype": "text/x-python",
   "name": "python",
   "nbconvert_exporter": "python",
   "pygments_lexer": "ipython3",
   "version": "3.11.11"
  }
 },
 "nbformat": 4,
 "nbformat_minor": 5
}
