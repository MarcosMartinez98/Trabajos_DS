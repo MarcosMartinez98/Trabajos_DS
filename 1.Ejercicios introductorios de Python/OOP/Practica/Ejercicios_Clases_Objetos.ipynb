{
 "cells": [
  {
   "cell_type": "markdown",
   "metadata": {},
   "source": [
    "![imagen](./img/ejercicios.png)\n",
    "\n",
    "# Ejercicios Clases y Objetos"
   ]
  },
  {
   "attachments": {},
   "cell_type": "markdown",
   "metadata": {},
   "source": [
    "## Ejercicio 1\n",
    "Somos una empresa que tiene varias tiendas de electrodomésticos. Necesitamos un programa para manejar las tiendas, ver las ventas que han tenido, cuántos empleados hay, etc... Para ello vamos a modelizar la tienda en una clase, que tendrá las siguientes características:\n",
    "* Nombre clase: \"Tienda\"\n",
    "* Atributos comunes:\n",
    "    * Tipo: \"Electrodomésticos\"\n",
    "    * Abierta: True\n",
    "* Atributos propios de cada tienda:\n",
    "    * Nombre - String\n",
    "    * Dirección - String\n",
    "    * Número de empleados - int\n",
    "    * Ventas últimos 3 meses - Lista de 3 numeros\n",
    "* Método para calcular las ventas de todos los meses, que devuelva un número con todas las ventas.\n",
    "* Método que calcula la media de ventas de los últimos meses, por empleado\n",
    "* Método que devuelve en un string el nombre de la tienda, junto con su dirección.\n",
    "* Método que obtiene las ventas del último mes.\n",
    "* Método para dar una proyección de las ventas en caso de haber invertido X dinero en marketing en esa tienda. Siendo X el parámetro de entrada. Si X es menor de 1000, las ventas de los ultimos 3 meses hubiesen sido de (1.2 x ventas), si es mayor o igual de 1000, las ventas hubiesen sido de (1.5 x venta). El método reescribe el atributo de ventas en los últimos 3 meses, y además devuelve las ventas con el aumento.\n",
    "\n",
    "Se pide:\n",
    "1. Implementar la clase \"Tienda\"\n",
    "2. Crear tres tiendas con datos inventados\n",
    "3. Comprueba en al menos una de ellas, todo lo implementado en la clase tienda (sus atributos, media de ventas, ventas/empleado...)\n",
    "3. Calcular las ventas del último mes de todas las tiendas. Para ello usa el bucle `for`\n",
    "4. Imprime por pantalla los nombres de las tiendas cuya dirección lleve el string \"Avenida\"\n",
    "5. Seguro que ya has hecho este apartado... Documenta la clase :)"
   ]
  },
  {
   "cell_type": "code",
   "execution_count": null,
   "metadata": {},
   "outputs": [],
   "source": [
    "class Tienda:\n",
    "    \"\"\"\n",
    "    Clase que representa una tienda de electrodomésticos.\n",
    "\n",
    "    Atributos de clase:\n",
    "        tipo (str): Tipo de tienda. Por defecto, 'Electrodomésticos'.\n",
    "        abierta (bool): Indica si la tienda está abierta. Por defecto, True.\n",
    "    \"\"\"\n",
    "\n",
    "    tipo = 'Electrodomésticos'\n",
    "    abierta = True\n",
    "\n",
    "    def __init__(self, nombre, direccion, num_empleados, ventas_tres_meses):\n",
    "        \"\"\"\n",
    "        Inicializa una instancia de la clase Tienda.\n",
    "\n",
    "        Args:\n",
    "            nombre (str): Nombre de la tienda.\n",
    "            direccion (str): Dirección física de la tienda.\n",
    "            num_empleados (int): Número de empleados en la tienda.\n",
    "            ventas_tres_meses (list[float]): Lista con las ventas de los últimos tres meses.\n",
    "        \"\"\"\n",
    "        self.nombre = nombre\n",
    "        self.direccion = direccion\n",
    "        self.num_empleados = num_empleados\n",
    "        self.ventas_tres_meses = ventas_tres_meses\n",
    "\n",
    "    def ventas_totales(self):\n",
    "        \"\"\"\n",
    "        Calcula el total de ventas en los últimos tres meses.\n",
    "\n",
    "        Returns:\n",
    "            float: Suma total de las ventas.\n",
    "        \"\"\"\n",
    "        return sum(self.ventas_tres_meses)\n",
    "\n",
    "    def media_ventas_empleado(self):\n",
    "        \"\"\"\n",
    "        Calcula la media de ventas por empleado.\n",
    "\n",
    "        Returns:\n",
    "            float: Media de ventas dividida entre el número de empleados.\n",
    "        \"\"\"\n",
    "        return sum(self.ventas_tres_meses) / self.num_empleados\n",
    "\n",
    "    def datos_tienda(self):\n",
    "        \"\"\"\n",
    "        Devuelve una descripción textual de la tienda.\n",
    "\n",
    "        Returns:\n",
    "            str: Información básica sobre la tienda.\n",
    "        \"\"\"\n",
    "        return f'La tienda {self.nombre} está ubicada en {self.direccion}'\n",
    "\n",
    "    def ventas_ultimo_mes(self):\n",
    "        \"\"\"\n",
    "        Obtiene las ventas del último mes registrado.\n",
    "\n",
    "        Returns:\n",
    "            float: Ventas del último mes (último elemento de la lista).\n",
    "        \"\"\"\n",
    "        return self.ventas_tres_meses[-1]\n",
    "\n",
    "    def proyeccion_ventas(self, inversion_marketing):\n",
    "        \"\"\"\n",
    "        Proyecta las ventas futuras en función de una inversión en marketing.\n",
    "\n",
    "        Args:\n",
    "            inversion_marketing (float): Cantidad de dinero invertida en marketing.\n",
    "\n",
    "        Returns:\n",
    "            tuple:\n",
    "                list[float]: Lista con las ventas proyectadas por mes.\n",
    "                float: Suma total de las ventas proyectadas.\n",
    "\n",
    "        Nota:\n",
    "            - Si la inversión es inferior a 1000€, se asume un incremento del 20% por mes.\n",
    "            - Si la inversión es igual o superior a 1000€, se asume un incremento del 50% por mes.\n",
    "        \"\"\"\n",
    "        ventas_con_marketing = []\n",
    "        if inversion_marketing < 1000:\n",
    "            for i in self.ventas_tres_meses:\n",
    "                ventas_con_marketing.append(1.2 * i)\n",
    "            return ventas_con_marketing, sum(ventas_con_marketing)\n",
    "        else:\n",
    "            for i in self.ventas_tres_meses:\n",
    "                ventas_con_marketing.append(1.5 * i)\n",
    "            return ventas_con_marketing, sum(ventas_con_marketing)\n"
   ]
  },
  {
   "cell_type": "code",
   "execution_count": 22,
   "metadata": {},
   "outputs": [],
   "source": [
    "fnac = Tienda('Fnac', 'Calle Juan 1', 50, [120000, 250000, 200000])\n",
    "media_markt = Tienda('Media Markt', 'Calle Pepe 2', 200, [1200000, 2500000, 2000000])\n",
    "corti = Tienda('El Corte Inglés', 'Avenida Paco 3', 150, [140000, 300000, 800000])"
   ]
  },
  {
   "cell_type": "code",
   "execution_count": 20,
   "metadata": {},
   "outputs": [
    {
     "name": "stdout",
     "output_type": "stream",
     "text": [
      "{'nombre': 'Fnac', 'direccion': 'Calle Juan 1', 'num_empleados': 50, 'ventas_tres_meses': [120000, 250000, 200000]}\n",
      "Electrodomésticos True\n",
      "570000\n",
      "11400.0\n",
      "La tienda Fnac está ubicada en Calle Juan 1\n",
      "200000\n",
      "([144000.0, 300000.0, 240000.0], 684000.0)\n"
     ]
    }
   ],
   "source": [
    "print(fnac.__dict__)\n",
    "print(fnac.tipo, fnac.abierta)\n",
    "print(fnac.ventas_totales())\n",
    "print(fnac.media_ventas_empleado())\n",
    "print(fnac.datos_tienda())\n",
    "print(fnac.ventas_ultimo_mes())\n",
    "print(fnac.proyeccion_ventas(500))\n"
   ]
  },
  {
   "cell_type": "code",
   "execution_count": 23,
   "metadata": {},
   "outputs": [
    {
     "name": "stdout",
     "output_type": "stream",
     "text": [
      "Las ventas del último mes en Fnac han sido de 200000 euros\n",
      "Las ventas del último mes en Media Markt han sido de 2000000 euros\n",
      "Las ventas del último mes en El Corte Inglés han sido de 800000 euros\n"
     ]
    }
   ],
   "source": [
    "#4 Calcular las ventas del ultimo mes de todas las tiendas\n",
    "tiendas = [fnac, media_markt, corti]\n",
    "for tienda in tiendas:\n",
    "    print(f'Las ventas del último mes en {tienda.nombre} han sido de {tienda.ventas_ultimo_mes()} euros')"
   ]
  },
  {
   "cell_type": "code",
   "execution_count": 25,
   "metadata": {},
   "outputs": [
    {
     "name": "stdout",
     "output_type": "stream",
     "text": [
      "El Corte Inglés\n"
     ]
    }
   ],
   "source": [
    "#5 imprime el nombre de las tinedas que lleven en su direccion el nombre avenida\n",
    "tiendas = [fnac, media_markt, corti]\n",
    "for tienda in tiendas:\n",
    "    if 'Avenida' in tienda.direccion:\n",
    "        print(tienda.nombre)"
   ]
  },
  {
   "cell_type": "markdown",
   "metadata": {},
   "source": [
    "## Ejercicio 2\n",
    "En este ejercicio vamos a implementar una clase *Perro* en Python. La clase tiene las siguientes características:\n",
    "* Cosas que sabemos seguro que tiene un perro\n",
    "    * Tiene 4 patas\n",
    "    * 2 orejas\n",
    "    * 2 ojos\n",
    "    * Una velocidad de 0. Por defecto, el perro está parado\n",
    "* Cuando se inicialice:\n",
    "    * El perro será de una determinada raza\n",
    "    * Por defecto tendrá pelo \"Marrón\", a no ser que se diga lo contrario.\n",
    "    * Por defecto no tendrá dueño, a no ser que se diga lo contrario.\n",
    "    \n",
    "* Dispondrá también de un método llamado andar, que tiene un argumento de entrada (aumento_velocidad). Este valor se le sumará a la velocidad que ya llevaba el perro.\n",
    "* Necesita otro método (parar), donde pondremos la velocidad a 0.\n",
    "* Otro método llamado \"ladrar\", que tendrá un argumento de entrada, y la salida será el siguiente string: \"GUAU!\" + el argumento de entrada.\n",
    "\n",
    "\n",
    "Se pide:\n",
    "* Implementa la clase *Perro*\n",
    "* Crea un objeto de tipo *Perro*, sin dueño\n",
    "* Comprueba que están bien todos sus atributos\n",
    "* Prueba que ande, y comprueba su velocidad\n",
    "* Páralo\n",
    "* Documenta la clase *Perro*"
   ]
  },
  {
   "cell_type": "code",
   "execution_count": 31,
   "metadata": {},
   "outputs": [],
   "source": [
    "class Perro:\n",
    "\n",
    "    patas = 4\n",
    "    orejas = 2\n",
    "    ojos = 2\n",
    "    velocidad = 0\n",
    "\n",
    "    def __init__(self, raza, pelo = 'Marrón', amo = False):\n",
    "        self.raza = raza\n",
    "        self.pelo = pelo\n",
    "        self.amo = amo\n",
    "\n",
    "    def andar(self, aumento_velocidad):\n",
    "        self.velocidad += aumento_velocidad\n",
    "\n",
    "    def parar(self):\n",
    "        if self.velocidad != 0:\n",
    "            self.velocidad = 0\n",
    "\n",
    "    def ladrar(self, ladrido):\n",
    "        print(f'GUAU! {ladrido}')"
   ]
  },
  {
   "cell_type": "code",
   "execution_count": 36,
   "metadata": {},
   "outputs": [
    {
     "name": "stdout",
     "output_type": "stream",
     "text": [
      "10\n",
      "0\n"
     ]
    }
   ],
   "source": [
    "mi_perro = Perro('Mastín')\n",
    "mi_perro.__dict__\n",
    "mi_perro.andar(10)\n",
    "print(mi_perro.velocidad)\n",
    "mi_perro.parar()\n",
    "print(mi_perro.velocidad)"
   ]
  }
 ],
 "metadata": {
  "kernelspec": {
   "display_name": "data_analysis_env",
   "language": "python",
   "name": "python3"
  },
  "language_info": {
   "codemirror_mode": {
    "name": "ipython",
    "version": 3
   },
   "file_extension": ".py",
   "mimetype": "text/x-python",
   "name": "python",
   "nbconvert_exporter": "python",
   "pygments_lexer": "ipython3",
   "version": "3.11.11"
  }
 },
 "nbformat": 4,
 "nbformat_minor": 4
}
