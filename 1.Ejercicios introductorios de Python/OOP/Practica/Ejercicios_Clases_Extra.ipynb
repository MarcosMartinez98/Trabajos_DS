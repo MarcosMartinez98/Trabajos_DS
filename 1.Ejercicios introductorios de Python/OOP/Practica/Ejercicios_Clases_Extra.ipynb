{
 "cells": [
  {
   "cell_type": "markdown",
   "metadata": {},
   "source": [
    "## Ejercicio 3\n",
    "Vamos a crear una clase para representar una biblioteca. La clase debe permitir gestionar libros y su disponibilidad.\n",
    "\n",
    "* Nombre de la clase: \"Biblioteca\"\n",
    "* Atributos comunes:\n",
    "    * Tipo: \"Pública\"\n",
    "    * Horario: \"09:00 - 20:00\"\n",
    "* Atributos propios de cada biblioteca:\n",
    "    * Nombre - String\n",
    "    * Dirección - String\n",
    "    * Lista de libros disponibles - Lista de strings\n",
    "    * Lista de libros prestados - Lista de strings\n",
    "* Método para añadir un libro a la lista de disponibles\n",
    "* Método para prestar un libro, que lo elimine de la lista de disponibles y lo añada a la de prestados\n",
    "* Método para devolver un libro, que lo elimine de la lista de prestados y lo añada a la de disponibles\n",
    "* Método que imprime el nombre de la biblioteca y su dirección\n",
    "* Método que devuelve la cantidad total de libros en la biblioteca (sumando disponibles y prestados)\n",
    "\n",
    "Se pide:\n",
    "1. Implementar la clase \"Biblioteca\"\n",
    "2. Crear dos bibliotecas con datos inventados\n",
    "3. Añadir libros y prestar algunos de ellos\n",
    "4. Verificar la cantidad total de libros en ambas bibliotecas\n",
    "5. Imprimir el nombre y dirección de todas las bibliotecas que contengan la palabra \"Central\"\n"
   ]
  },
  {
   "cell_type": "code",
   "execution_count": 3,
   "metadata": {},
   "outputs": [],
   "source": [
    "class Biblioteca:\n",
    "    tipo = 'Pública'\n",
    "    horario = '09:00 - 20:00'\n",
    "\n",
    "    def __init__(self, nombre, direccion, libros_disponibles, libros_prestados):\n",
    "        self.nombre = nombre\n",
    "        self.direccion = direccion\n",
    "        self.libros_disponibles = libros_disponibles\n",
    "        self.libros_prestados = libros_prestados\n",
    "    \n",
    "    def añadir(self, libro):\n",
    "        self.libros_disponibles.append(libro)\n",
    "    \n",
    "    def prestar(self, libro):\n",
    "        self.libros_disponibles.remove(libro)\n",
    "        self.libros_prestados.append(libro)\n",
    "    \n",
    "    def devolver(self, libro):\n",
    "        self.libros_prestados.remove(libro)\n",
    "        self.libros_disponibles.append(libro)\n",
    "    \n",
    "    def datos_biblioteca(self):\n",
    "        return f'La biblioteca {self.nombre} está ubicada en {self.direccion}'\n",
    "    \n",
    "    def num_libros(self):\n",
    "        return len(self.libros_disponibles) + len(self.libros_prestados)\n",
    "        "
   ]
  },
  {
   "cell_type": "code",
   "execution_count": 11,
   "metadata": {},
   "outputs": [],
   "source": [
    "biblioteca1 = Biblioteca(\n",
    "    nombre=\"Biblioteca Central\",\n",
    "    direccion=\"Avenida del Saber 12, Salamanca\",\n",
    "    libros_disponibles=[\"El Quijote\", \"Cien años de soledad\", \"La sombra del viento\"],\n",
    "    libros_prestados=[\"1984\", \"Crimen y castigo\"]\n",
    ")\n",
    "\n",
    "\n",
    "biblioteca2 = Biblioteca(\n",
    "    nombre=\"Biblioteca de Ciencias\",\n",
    "    direccion=\"Calle Einstein 3, Barcelona\",\n",
    "    libros_disponibles=[\"Breves respuestas a las grandes preguntas\", \"El gen egoísta\", \"La estructura de las revoluciones científicas\"],\n",
    "    libros_prestados=[\"Una breve historia del tiempo\"]\n",
    ")"
   ]
  },
  {
   "cell_type": "code",
   "execution_count": 9,
   "metadata": {},
   "outputs": [
    {
     "name": "stdout",
     "output_type": "stream",
     "text": [
      "['El Quijote', 'Cien años de soledad', 'La sombra del viento', 'Orgullo y prejuicio', 'Orgullo y prejuicio', 'Orgullo y prejuicio']\n",
      "12\n"
     ]
    }
   ],
   "source": [
    "# Vamos a añadir libros\n",
    "biblioteca1.añadir('Orgullo y prejuicio')\n",
    "print(biblioteca1.libros_disponibles)\n",
    "# Comprobamos el numero de libros en ambas bibliotecas\n",
    "bibliotecas = [biblioteca1, biblioteca2]\n",
    "libros_totales = 0\n",
    "for biblio in bibliotecas:\n",
    "    libros_totales += biblio.num_libros()\n",
    "print(libros_totales)\n"
   ]
  },
  {
   "cell_type": "code",
   "execution_count": 13,
   "metadata": {},
   "outputs": [
    {
     "name": "stdout",
     "output_type": "stream",
     "text": [
      "Biblioteca Central\n"
     ]
    }
   ],
   "source": [
    "# Devolver el nombre de las bibliotecas que contengan la palabra central\n",
    "for biblio in bibliotecas:\n",
    "    if 'Central' in biblio.nombre:\n",
    "        print(biblio.nombre)"
   ]
  },
  {
   "cell_type": "markdown",
   "metadata": {},
   "source": [
    "\n",
    "## Ejercicio 4\n",
    "Vamos a modelar un vehículo que se puede alquilar, como en una empresa de alquiler de coches.\n",
    "\n",
    "* Nombre de la clase: \"VehículoAlquiler\"\n",
    "* Atributos comunes:\n",
    "    * Disponible: True\n",
    "* Atributos propios de cada vehículo:\n",
    "    * Marca - String\n",
    "    * Modelo - String\n",
    "    * Año - int\n",
    "    * Kilometraje - float\n",
    "* Método para alquilar el vehículo, que cambie el atributo `Disponible` a False\n",
    "* Método para devolver el vehículo, que cambie `Disponible` a True y aumente el kilometraje con el valor que se pasa como argumento\n",
    "* Método para obtener la descripción del vehículo (marca, modelo y año)\n",
    "* Método que calcula el precio del alquiler según los kilómetros recorridos, con una tarifa fija de 0.50€/km\n",
    "\n",
    "Se pide:\n",
    "1. Implementar la clase \"VehículoAlquiler\"\n",
    "2. Crear tres vehículos y alquilar dos de ellos\n",
    "3. Devolver uno de los vehículos con un kilometraje añadido\n",
    "4. Imprimir la descripción de todos los vehículos disponibles\n",
    "5. Calcular el precio del alquiler de uno de los vehículos devueltos\n"
   ]
  },
  {
   "cell_type": "code",
   "execution_count": null,
   "metadata": {},
   "outputs": [],
   "source": [
    "class VehiculoAlquiler:\n",
    "    disponible = True\n",
    "\n",
    "    def __init__(self, marca, modelo, año, km):\n",
    "        self.marca = marca\n",
    "        self.modelo = modelo\n",
    "        self.año = año\n",
    "        self.km = km\n",
    "\n",
    "    def alquilar(self):\n",
    "        if self.disponible is True:\n",
    "            self.disponible = False\n",
    "        else:\n",
    "            print('El coche ya esta en alquiler')\n",
    "    \n",
    "    def devolver(self, km_realizados):\n",
    "        if self.disponible is False:\n",
    "            self.disponible = True\n",
    "            self.km += km_realizados\n",
    "        else:\n",
    "            print('El coche no se ha alquilado')\n",
    "    \n",
    "    def descripcion(self):\n",
    "        print(f'Marca: {self.marca}')\n",
    "        print(f'Modelo: {self.modelo}')\n",
    "        print(f'Año: {self.año}')\n",
    "\n",
    "    def precio(self, km_hechos):\n",
    "        return f' El precio del alquiler es de {0.5 * km_hechos} euros'\n",
    "\n",
    "\n",
    "\n",
    "\n",
    "\n",
    "    "
   ]
  },
  {
   "cell_type": "code",
   "execution_count": 21,
   "metadata": {},
   "outputs": [
    {
     "name": "stdout",
     "output_type": "stream",
     "text": [
      "Marca: Toyota\n",
      "Modelo: Corolla\n",
      "Año: 2010\n",
      "--------------------\n",
      "Marca: Audi\n",
      "Modelo: A3\n",
      "Año: 2008\n",
      "--------------------\n",
      "Marca: Opel\n",
      "Modelo: Corsa\n",
      "Año: 2001\n",
      "--------------------\n"
     ]
    },
    {
     "data": {
      "text/plain": [
       "' El precio del alquiler es de 250.0 euros'"
      ]
     },
     "execution_count": 21,
     "metadata": {},
     "output_type": "execute_result"
    }
   ],
   "source": [
    "toyota = VehiculoAlquiler('Toyota', 'Corolla', 2010, 25000)\n",
    "audi = VehiculoAlquiler('Audi', 'A3', 2008, 10000)\n",
    "opel = VehiculoAlquiler('Opel', 'Corsa', 2001, 120000)\n",
    "\n",
    "# Vamos a alquilar dos de ellos\n",
    "toyota.alquilar()\n",
    "audi.alquilar()\n",
    "\n",
    "#Devolvemos el audi con un km de 1000 km\n",
    "audi.devolver(500)\n",
    "\n",
    "# datos de los coches\n",
    "coches = [toyota, audi, opel]\n",
    "for i in coches:\n",
    "    i.descripcion()\n",
    "    print('-'*20)\n",
    "\n",
    "# calculamos el precio del alquiler del audi devuelto\n",
    "audi.precio(500)"
   ]
  },
  {
   "cell_type": "markdown",
   "metadata": {},
   "source": [
    "\n",
    "## Ejercicio 5\n",
    "Vamos a modelar un sistema de gestión de cursos para una plataforma educativa.\n",
    "\n",
    "* Nombre de la clase: \"Curso\"\n",
    "* Atributos comunes:\n",
    "    * Modalidad: \"Online\"\n",
    "* Atributos propios de cada curso:\n",
    "    * Nombre - String\n",
    "    * Profesor - String\n",
    "    * Número de lecciones - int\n",
    "    * Estudiantes inscritos - Lista de strings (nombres de los estudiantes)\n",
    "* Método para inscribir un estudiante, que añade un nombre a la lista de inscritos\n",
    "* Método para calcular el número total de estudiantes inscritos\n",
    "* Método que imprime un resumen del curso con su nombre y profesor\n",
    "* Método para cambiar al profesor del curso\n",
    "\n",
    "Se pide:\n",
    "1. Implementar la clase \"Curso\"\n",
    "2. Crear dos cursos con información inventada\n",
    "3. Inscribir a algunos estudiantes en cada curso\n",
    "4. Cambiar el profesor de uno de los cursos\n",
    "5. Imprimir el resumen de todos los cursos con más de 3 estudiantes inscritos\n"
   ]
  },
  {
   "cell_type": "code",
   "execution_count": 22,
   "metadata": {},
   "outputs": [],
   "source": [
    "class Curso:\n",
    "    modalidad = 'online'\n",
    "\n",
    "    def __init__(self, nombre, profesor, lecciones, estudiantes):\n",
    "        self.nombre = nombre\n",
    "        self.profesor = profesor\n",
    "        self.lecciones = lecciones\n",
    "        self.estudiantes = estudiantes\n",
    "\n",
    "    def añadir_estudiante(self, nombre):\n",
    "        self.estudiantes.append(nombre)\n",
    "\n",
    "    def numero_estudiantes(self):\n",
    "        return len(self.estudiantes)\n",
    "    \n",
    "    def resumen_curso(self):\n",
    "        print(f'Curso: {self.nombre}. Profesor: {self.profesor}')\n",
    "    \n",
    "    def cambiar_profesor(self, nuevo_profesor):\n",
    "        self.profesor = nuevo_profesor"
   ]
  },
  {
   "cell_type": "code",
   "execution_count": 28,
   "metadata": {},
   "outputs": [
    {
     "name": "stdout",
     "output_type": "stream",
     "text": [
      "Curso: Curso de Python. Profesor: José Luis\n"
     ]
    }
   ],
   "source": [
    "curso_python = Curso('Curso de Python', 'José Luis', 10, ['Marcos', 'Juan', 'Vicente', 'Pepe'])\n",
    "curso_mates = Curso('Curso de Matemáticas', 'Emmy Noether', 5, ['Marcos', 'Francisco'])\n",
    "\n",
    "# añadimos un estudiante a cada curso\n",
    "curso_python.añadir_estudiante('Domingo')\n",
    "curso_python.estudiantes\n",
    "curso_mates.añadir_estudiante('Viernes')\n",
    "curso_mates.estudiantes\n",
    "\n",
    "# cambiamos a uno de los profesores\n",
    "curso_mates.cambiar_profesor('Lebesgue')\n",
    "curso_mates.profesor\n",
    "\n",
    "#resumen de los cursos con mas de tres estudiantes inscritos\n",
    "for curso in [curso_python, curso_mates]:\n",
    "    if len(curso.estudiantes) > 3:\n",
    "        curso.resumen_curso()"
   ]
  },
  {
   "cell_type": "markdown",
   "metadata": {},
   "source": [
    "\n",
    "## Ejercicio 6\n",
    "Vamos a crear una clase para modelar una cuenta bancaria.\n",
    "\n",
    "* Nombre de la clase: \"CuentaBancaria\"\n",
    "* Atributos comunes:\n",
    "    * Moneda: \"EUR\"\n",
    "* Atributos propios de cada cuenta:\n",
    "    * Número de cuenta - String\n",
    "    * Titular - String\n",
    "    * Saldo - float\n",
    "* Método para realizar un depósito, que aumente el saldo con un valor pasado como argumento\n",
    "* Método para retirar una cantidad, que disminuya el saldo si hay fondos suficientes, sino devuelve un mensaje indicando falta de fondos\n",
    "* Método para obtener el saldo actual\n",
    "* Método para transferir dinero a otra cuenta (pasada como argumento), que disminuya el saldo si hay fondos suficientes y aumente el saldo de la cuenta destino\n",
    "\n",
    "Se pide:\n",
    "1. Implementar la clase \"CuentaBancaria\"\n",
    "2. Crear dos cuentas con información inventada\n",
    "3. Realizar depósitos y retirar dinero de las cuentas\n",
    "4. Transferir dinero de una cuenta a otra\n",
    "5. Imprimir el saldo de ambas cuentas después de la transferencia\n"
   ]
  },
  {
   "cell_type": "code",
   "execution_count": 29,
   "metadata": {},
   "outputs": [],
   "source": [
    "class CuentaBancaria:\n",
    "    moneda = 'EUR'\n",
    "\n",
    "    def __init__(self, num_cuenta, titular, saldo):\n",
    "        self.num_cuenta = num_cuenta\n",
    "        self.titular = titular\n",
    "        self.saldo = saldo\n",
    "    \n",
    "    def deposito(self, cantidad):\n",
    "        self.saldo += cantidad\n",
    "    \n",
    "    def retirar_dinero(self, cantidad):\n",
    "        if self.saldo - cantidad >= 0:\n",
    "            self.saldo -= cantidad\n",
    "        else:\n",
    "            print('La cantidad a retirar excede el saldo disponible')\n",
    "    \n",
    "    def saldo_actual(self):\n",
    "        return self.saldo\n",
    "    \n",
    "    def transferir(self, cuenta_destino, cantidad):\n",
    "        if self.saldo - cantidad >= 0:\n",
    "            self.saldo -= cantidad\n",
    "            cuenta_destino.saldo += cantidad\n",
    "        else:\n",
    "            print('La cantidad a transferir excede el saldo disponible')\n",
    "    \n"
   ]
  },
  {
   "cell_type": "code",
   "execution_count": 33,
   "metadata": {},
   "outputs": [
    {
     "name": "stdout",
     "output_type": "stream",
     "text": [
      "1200\n",
      "900\n",
      "saldo pepe 300\n",
      "saldo marcos 1100\n"
     ]
    }
   ],
   "source": [
    "# instanciamos dos cuentas bancarias\n",
    "cuenta_marcos = CuentaBancaria('ES 01', 'Marcos', 1000)\n",
    "cuenta_pepe = CuentaBancaria('ES 02', 'Pepe', 500)\n",
    "\n",
    "cuenta_marcos.deposito(200)\n",
    "print(cuenta_marcos.saldo)\n",
    "cuenta_marcos.retirar_dinero(300)\n",
    "print(cuenta_marcos.saldo)\n",
    "cuenta_pepe.transferir(cuenta_marcos, 200)\n",
    "print('saldo pepe', cuenta_pepe.saldo)\n",
    "print('saldo marcos', cuenta_marcos.saldo)\n"
   ]
  }
 ],
 "metadata": {
  "kernelspec": {
   "display_name": "data_analysis_env",
   "language": "python",
   "name": "python3"
  },
  "language_info": {
   "codemirror_mode": {
    "name": "ipython",
    "version": 3
   },
   "file_extension": ".py",
   "mimetype": "text/x-python",
   "name": "python",
   "nbconvert_exporter": "python",
   "pygments_lexer": "ipython3",
   "version": "3.11.11"
  }
 },
 "nbformat": 4,
 "nbformat_minor": 2
}
