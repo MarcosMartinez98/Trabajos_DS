{
 "cells": [
  {
   "cell_type": "markdown",
   "metadata": {},
   "source": [
    "### Creacion de clase\n"
   ]
  },
  {
   "cell_type": "code",
   "execution_count": null,
   "metadata": {},
   "outputs": [],
   "source": [
    "# crear dos funciones que devuelvan la media de cada alumo y la media total\n",
    "\n",
    "class Instituto:\n",
    "    estudiantes = {'juan': [1,2,4], 'pepe': [5,7,7], 'raul': [9,10,10]}\n",
    "\n",
    "    def media_alumnos(self):\n",
    "        list_medias = []\n",
    "        for i in self.estudiantes.values():\n",
    "            list_medias.append(round(sum(i)/len(i),2))\n",
    "        return list_medias\n",
    "\n",
    "    def media_global(self):\n",
    "        media_global = round(sum(self.media_alumnos())/len(self.media_alumnos()), 2)\n",
    "        return media_global\n",
    "\n",
    "\n",
    "\n",
    "    def stats(self):\n",
    "        '''\n",
    "        el metodo stats devuelve la media de cada estudiante y la media global\n",
    "        '''\n",
    "        for alumno, notas, i  in zip(self.estudiantes.keys(),self.estudiantes.values(), range(len(self.media_alumnos()))):\n",
    "            print(f'La media de {alumno} es {self.media_alumnos()[i]} ')\n",
    "        \n",
    "        print(f'La media global es {self.media_global()}')\n",
    "\n",
    "    def porcentage_aprobados_total(self):\n",
    "        '''\n",
    "        devuelve el porcentaje de alumnos que su media es al menos 5\n",
    "        '''\n",
    "        alumnos_aprobados = 0\n",
    "        for nota in self.media_alumnos():\n",
    "            if nota >= 5:\n",
    "                alumnos_aprobados += 1\n",
    "        print(f'El porcentaje de aprobados es {round((alumnos_aprobados/len(self.media_alumnos())) * 100,2)}')\n",
    "\n",
    "    def porcentaje_alumnos_aprobados_por_eval(self, evaluacion):\n",
    "        '''\n",
    "        devuelve el porcentaje de alumnos aprobados en una evaluacion concreta (hay tres)\n",
    "        '''\n",
    "        if evaluacion == 1:\n",
    "            notas_1eval = []\n",
    "            for alumno in self.estudiantes.keys():\n",
    "                notas_1eval.append(self.estudiantes[alumno][0])\n",
    "            notas_1eval\n",
    "            alumnos_aprobados_1eval = 0\n",
    "            for nota in notas_1eval:\n",
    "                if nota >= 5:\n",
    "                    alumnos_aprobados_1eval += 1\n",
    "            print(f'El porcentaje de aprobados en la primera evaluacion es {round((alumnos_aprobados_1eval/len(notas_1eval)) * 100,2)}')\n",
    "    \n",
    "        elif evaluacion == 2:    \n",
    "            notas_2eval = []\n",
    "            for alumno in self.estudiantes.keys():\n",
    "                notas_2eval.append(self.estudiantes[alumno][1])\n",
    "            notas_2eval\n",
    "            alumnos_aprobados_2eval = 0\n",
    "            for nota in notas_2eval:\n",
    "                if nota >= 5:\n",
    "                    alumnos_aprobados_2eval += 1\n",
    "            print(f'El porcentaje de aprobados en la segunda evaluacion es {round((alumnos_aprobados_2eval/len(notas_2eval)) * 100,2)}')\n",
    "\n",
    "        elif evaluacion == 3:\n",
    "            notas_3eval = []\n",
    "            for alumno in self.estudiantes.keys():\n",
    "                notas_3eval.append(self.estudiantes[alumno][2])\n",
    "            notas_3eval\n",
    "            alumnos_aprobados_3eval = 0\n",
    "            for nota in notas_3eval:\n",
    "                if nota >= 5:\n",
    "                    alumnos_aprobados_3eval += 1\n",
    "            print(f'El porcentaje de aprobados en la tercera evaluacion es {round((alumnos_aprobados_3eval/len(notas_3eval)) * 100,2)}')\n",
    "\n",
    "        else:\n",
    "            print('Evaluacion no disponible')\n",
    "        \n",
    "         \n",
    "\n",
    "    def cambiar_nota(self, alumno, notas):\n",
    "        '''\n",
    "        se le pone nueva nota (las 3) al alumno en en cuestion\n",
    "        '''\n",
    "        self.estudiantes[alumno] = notas\n",
    "    "
   ]
  },
  {
   "cell_type": "code",
   "execution_count": 63,
   "metadata": {},
   "outputs": [
    {
     "data": {
      "text/plain": [
       "{'juan': [0, 0, 3], 'pepe': [5, 7, 7], 'raul': [9, 10, 10]}"
      ]
     },
     "execution_count": 63,
     "metadata": {},
     "output_type": "execute_result"
    }
   ],
   "source": [
    "ins = Instituto()\n",
    "ins.cambiar_nota('juan', [0,0,3])\n",
    "ins.estudiantes"
   ]
  },
  {
   "cell_type": "code",
   "execution_count": 8,
   "metadata": {},
   "outputs": [],
   "source": [
    "class Instituto:\n",
    "    estudiantes = {\"juan\": [1,2,5], \"pepe\": [5,7,7], \"raul\": [9,9,10]}\n",
    "    \n",
    "\n",
    "    def stats(self):\n",
    "        \"\"\"\n",
    "        el metodo stats devuelve la media de cada estudiante y la media global\n",
    "        \"\"\"\n",
    "        medias = []\n",
    "        for alumno, notas in self.estudiantes.items():\n",
    "            print(f\"La media de {alumno} es {sum(notas)/len(notas)}\")\n",
    "            medias.append(sum(notas)/len(notas))\n",
    "        print(f\"La media global es {sum(medias)/len(medias)}\")\n",
    "        \n",
    "\n",
    "    \n",
    "\n",
    "    def procentaje_aprobados_total(self):\n",
    "        \"\"\"\n",
    "        devuelve el porcentaje de alumnos que su media es al menos 5\n",
    "        \"\"\"\n",
    "\n",
    "        medias = []\n",
    "        for alumno, notas in self.estudiantes.items():\n",
    "            medias.append(sum(notas)/len(notas))\n",
    "       \n",
    "\n",
    "        aprobados = 0\n",
    "        for media in medias:\n",
    "            if media >= 5:\n",
    "                aprobados = aprobados + 1\n",
    "        return aprobados/len(medias)*100\n",
    "\n",
    "    def porcentaje_aprobados_eval(self, evaluacion): #evaluacion es 1 o 2 o 3\n",
    "        \"\"\"\n",
    "        devuelve el porcentaje de alumnos aprobados en una evaluacion concreta (hay 3)\n",
    "        \"\"\"\n",
    "        \n",
    "        aprobados = 0\n",
    "        \n",
    "        \n",
    "        for alumno, notas in self.estudiantes.items():\n",
    "            \n",
    "            nota_evaluacion = notas[evaluacion-1]\n",
    "            if nota_evaluacion >= 5:\n",
    "                aprobados = aprobados + 1\n",
    "        \n",
    "        return aprobados/len(self.estudiantes.keys())\n",
    "\n",
    "\n",
    "    def cambiar_nota(self, alumno, nueva_nota):\n",
    "        \"\"\"\n",
    "        se le pone una nueva nota (las 3) al alumno en cuestion\n",
    "        \"\"\"\n",
    "        self.estudiantes[alumno] = nueva_nota\n",
    "        return self.estudiantes"
   ]
  },
  {
   "cell_type": "code",
   "execution_count": 7,
   "metadata": {},
   "outputs": [
    {
     "name": "stdout",
     "output_type": "stream",
     "text": [
      "1\n",
      "5\n",
      "9\n"
     ]
    },
    {
     "data": {
      "text/plain": [
       "0.6666666666666666"
      ]
     },
     "execution_count": 7,
     "metadata": {},
     "output_type": "execute_result"
    }
   ],
   "source": [
    "insti = Instituto()\n",
    "insti.procentaje_aprobados_eval(1)"
   ]
  }
 ],
 "metadata": {
  "kernelspec": {
   "display_name": "data_analysis_env",
   "language": "python",
   "name": "python3"
  },
  "language_info": {
   "codemirror_mode": {
    "name": "ipython",
    "version": 3
   },
   "file_extension": ".py",
   "mimetype": "text/x-python",
   "name": "python",
   "nbconvert_exporter": "python",
   "pygments_lexer": "ipython3",
   "version": "3.11.11"
  }
 },
 "nbformat": 4,
 "nbformat_minor": 2
}
