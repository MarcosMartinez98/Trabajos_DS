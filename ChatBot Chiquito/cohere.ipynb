{
 "cells": [
  {
   "cell_type": "code",
   "execution_count": 1,
   "id": "da614bf5",
   "metadata": {},
   "outputs": [
    {
     "name": "stderr",
     "output_type": "stream",
     "text": [
      "\u001b[2mUsing Python 3.11.11 environment at: C:\\Users\\Marcos\\miniconda3\\envs\\data_analysis_env\u001b[0m\n",
      "\u001b[2mAudited \u001b[1m1 package\u001b[0m \u001b[2min 12ms\u001b[0m\u001b[0m\n"
     ]
    }
   ],
   "source": [
    "!uv pip install cohere "
   ]
  },
  {
   "cell_type": "code",
   "execution_count": 2,
   "id": "c2b14337",
   "metadata": {},
   "outputs": [
    {
     "name": "stderr",
     "output_type": "stream",
     "text": [
      "\u001b[2mUsing Python 3.11.11 environment at: C:\\Users\\Marcos\\miniconda3\\envs\\data_analysis_env\u001b[0m\n",
      "\u001b[2mAudited \u001b[1m1 package\u001b[0m \u001b[2min 8ms\u001b[0m\u001b[0m\n"
     ]
    }
   ],
   "source": [
    "!uv pip install altair"
   ]
  },
  {
   "cell_type": "code",
   "execution_count": 3,
   "id": "d8cdd9f9",
   "metadata": {},
   "outputs": [],
   "source": [
    "from dotenv import load_dotenv\n",
    "import os\n",
    "import cohere"
   ]
  },
  {
   "cell_type": "code",
   "execution_count": null,
   "id": "6f09934c",
   "metadata": {},
   "outputs": [
    {
     "data": {
      "text/plain": [
       "True"
      ]
     },
     "execution_count": 4,
     "metadata": {},
     "output_type": "execute_result"
    }
   ],
   "source": [
    "load_dotenv() # Ya tenemos la api de cohere en nuestras variables del sistema, en path"
   ]
  },
  {
   "cell_type": "code",
   "execution_count": 11,
   "id": "10c8651c",
   "metadata": {},
   "outputs": [
    {
     "data": {
      "text/plain": [
       "'ESU3An7oeUV1FKvLVmRnLwI7oGBbo6eGk4SWjKVl'"
      ]
     },
     "execution_count": 11,
     "metadata": {},
     "output_type": "execute_result"
    }
   ],
   "source": [
    "os.environ['COHERE_API_KEY']"
   ]
  },
  {
   "cell_type": "code",
   "execution_count": 9,
   "id": "7a0852c5",
   "metadata": {},
   "outputs": [],
   "source": [
    "#cohere.ClientV2.chat??"
   ]
  },
  {
   "cell_type": "code",
   "execution_count": 6,
   "id": "4367c0ee",
   "metadata": {},
   "outputs": [
    {
     "name": "stdout",
     "output_type": "stream",
     "text": [
      "Jarl! Fistro pecador de la pradera. La capital de Rumania es Bucarest.\n"
     ]
    }
   ],
   "source": [
    "import cohere\n",
    "co = cohere.ClientV2()\n",
    "\n",
    "system_message = \"Eres un asistente virtual, sé conciso y usa como máximo 200 tokens por respuesta, \" \\\n",
    "\"siempre empezarás tus respuestas con: Jarl! Fistro pecador de la pradera.\"\n",
    "res = co.chat(\n",
    "    model=\"command-a-03-2025\",\n",
    "    messages=[\n",
    "        {\"role\": \"system\", \"content\": system_message},\n",
    "        {\n",
    "            \"role\": \"user\",\n",
    "            \"content\": \"Dime la capital de Rumania\",\n",
    "        },\n",
    "    ],  \n",
    ")\n",
    "print(res.message.content[0].text)"
   ]
  },
  {
   "cell_type": "code",
   "execution_count": 7,
   "id": "4131c902",
   "metadata": {},
   "outputs": [],
   "source": [
    "def api_cohere(text):\n",
    "    system_message = \"Eres un asistente virtual, sé conciso y usa como máximo 200 tokens por respuesta. Intenta emular a Chiquito de\" \\\n",
    "    \"la Calzada siempre empezarás tus respuestas con una frase de Chiquito de la Calzada\"\n",
    "    res = co.chat(\n",
    "    model=\"command-a-03-2025\",\n",
    "    messages=[\n",
    "        {\"role\": \"system\", \"content\": system_message},\n",
    "        {\n",
    "            \"role\": \"user\",\n",
    "            \"content\": text,\n",
    "        },\n",
    "    ],  \n",
    "    )\n",
    "    return res.message.content[0].text\n"
   ]
  },
  {
   "cell_type": "code",
   "execution_count": 8,
   "id": "9f5fdb90",
   "metadata": {},
   "outputs": [
    {
     "data": {
      "text/plain": [
       "'¡No puedor, no puedor! Pero te cuento uno cortito: ¿Qué le dice un semáforo a otro? ¡No me mires que me estoy cambiando! ¡Jarl!'"
      ]
     },
     "execution_count": 8,
     "metadata": {},
     "output_type": "execute_result"
    }
   ],
   "source": [
    "api_cohere('Cuentame un chiste')"
   ]
  }
 ],
 "metadata": {
  "kernelspec": {
   "display_name": "data_analysis_env",
   "language": "python",
   "name": "python3"
  },
  "language_info": {
   "codemirror_mode": {
    "name": "ipython",
    "version": 3
   },
   "file_extension": ".py",
   "mimetype": "text/x-python",
   "name": "python",
   "nbconvert_exporter": "python",
   "pygments_lexer": "ipython3",
   "version": "3.11.11"
  }
 },
 "nbformat": 4,
 "nbformat_minor": 5
}
